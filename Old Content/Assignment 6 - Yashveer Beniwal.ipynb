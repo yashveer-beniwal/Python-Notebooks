{
 "cells": [
  {
   "cell_type": "markdown",
   "metadata": {},
   "source": [
    "# Assignment 6 - Yashveer Beniwal"
   ]
  },
  {
   "cell_type": "markdown",
   "metadata": {},
   "source": [
    "### Question\n",
    "```\n",
    "(100 marks) You are a contestant on the game show \"Let's Make a Deal\". The host (Monty Hall) presents you with 4 closed doors. Behind one door is a new car, behind the other three doors is a goat (which you do not get to keep). The location of the car and the goats is entirely random, although Monty knows the location of the car. Monty tells you to select one door. Once your choice is made, Monty opens one of the three doors you did not pick to reveal a goat (note, Monty picks among the \"goat\" doors at random). Monty then asks you if you would like to stay with your original choice, or switch to one of the other two closed doors. Should you switch or stay? Use any method you like (simulation, outcome table, likelihood calculations) to support your answer.\n",
    "\n",
    "Notes:\n",
    "1. This is identical to the setup of the Monty Hall problem discussed in class, the only difference is the extra door.\n",
    "2. Monty picks among the \"goat\" doors at random when he opens the door.\n",
    "\n",
    "Example:\n",
    "1. The contestant picks Door #1\n",
    "2. Monty opens Door #2 to reveal a goat.\n",
    "3. The contestant has the option to stay with Door #1, or switch to either Door #3 or Door #4 (doors 1, 3, and 4 are all still closed at this point).\n",
    "4. Monty opens the selected door to see if the contestant has won or lost.\n",
    "```\n",
    "\n",
    "### Answer (Using the code presented in class, extending it for 4 doors with 1 door revealed)"
   ]
  },
  {
   "cell_type": "code",
   "execution_count": 2,
   "metadata": {
    "collapsed": true
   },
   "outputs": [],
   "source": [
    "import random"
   ]
  },
  {
   "cell_type": "code",
   "execution_count": 14,
   "metadata": {
    "collapsed": false
   },
   "outputs": [
    {
     "name": "stdout",
     "output_type": "stream",
     "text": [
      "When staying we win 24.96% of the time\n",
      "When switching we win 37.53% of the time\n"
     ]
    }
   ],
   "source": [
    "doors = [\"goat\", \"goat\", \"goat\", \"car\"]\n",
    "wins_when_switching = 0\n",
    "loses_when_switching = 0\n",
    "wins_when_staying = 0\n",
    "loses_when_staying = 0\n",
    "\n",
    "for game_ct in range(100000):\n",
    "    \n",
    "    # Randomize the location of the car\n",
    "    random.shuffle(doors)\n",
    "    car_location = doors.index(\"car\")\n",
    "    \n",
    "    # Step 1: Pick our door\n",
    "    remaining_doors = [0, 1, 2, 3]\n",
    "    door_selection = random.choice(remaining_doors)  # initial choice\n",
    "    remaining_doors.remove(door_selection) # remaining three doors\n",
    "    \n",
    "    # Step 2: Monty opens one of the goat doors\n",
    "    if (doors[remaining_doors[0]] == \"goat\") & (doors[remaining_doors[1]] == \"goat\") & (doors[remaining_doors[2]] == \"goat\"):\n",
    "        opened_door = random.choice(remaining_doors)\n",
    "    # here either the car is behind first remaining door or any of the n-2 remaining doors\n",
    "    elif doors[remaining_doors[0]] == \"goat\":\n",
    "        opened_door = remaining_doors[0]\n",
    "    else:\n",
    "        opened_door = remaining_doors[1]\n",
    "    remaining_doors.remove(opened_door)  # remaining_doors now has two more doors to choose\n",
    "    \n",
    "    # Step 3: Decide whether to switch or stay.\n",
    "    should_i_stay = random.choice([True, False])\n",
    "    if should_i_stay:\n",
    "        if door_selection == car_location:\n",
    "            wins_when_staying += 1\n",
    "        else:\n",
    "            loses_when_staying += 1\n",
    "    else:\n",
    "        door_selection = random.choice(remaining_doors)  # Switch our selection for the any of the two remaining doors randomly\n",
    "        if door_selection == car_location:\n",
    "            wins_when_switching += 1\n",
    "        else:\n",
    "            loses_when_switching += 1        \n",
    "win_pct_when_staying = 100*(float(wins_when_staying) / \n",
    "                            (float(wins_when_staying) + float(loses_when_staying)))\n",
    "win_pct_when_switching = 100*(float(wins_when_switching) / \n",
    "                              (float(wins_when_switching) + float(loses_when_switching)))\n",
    "\n",
    "print(\"When staying we win %.2f%% of the time\" % win_pct_when_staying)\n",
    "print(\"When switching we win %.2f%% of the time\" % win_pct_when_switching)"
   ]
  }
 ],
 "metadata": {
  "kernelspec": {
   "display_name": "Python 3",
   "language": "python",
   "name": "python3"
  },
  "language_info": {
   "codemirror_mode": {
    "name": "ipython",
    "version": 3
   },
   "file_extension": ".py",
   "mimetype": "text/x-python",
   "name": "python",
   "nbconvert_exporter": "python",
   "pygments_lexer": "ipython3",
   "version": "3.6.0"
  }
 },
 "nbformat": 4,
 "nbformat_minor": 2
}
