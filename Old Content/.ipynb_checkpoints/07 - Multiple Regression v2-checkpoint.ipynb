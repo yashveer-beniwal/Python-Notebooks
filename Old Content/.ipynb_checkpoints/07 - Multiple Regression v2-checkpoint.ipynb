{
 "cells": [
  {
   "cell_type": "markdown",
   "metadata": {},
   "source": [
    "## Module 07 - Multiple Regression\n"
   ]
  },
  {
   "cell_type": "code",
   "execution_count": 1,
   "metadata": {},
   "outputs": [
    {
     "name": "stderr",
     "output_type": "stream",
     "text": [
      "/anaconda3/lib/python3.6/site-packages/statsmodels/compat/pandas.py:56: FutureWarning: The pandas.core.datetools module is deprecated and will be removed in a future version. Please use the pandas.tseries module instead.\n",
      "  from pandas.core import datetools\n"
     ]
    },
    {
     "data": {
      "text/html": [
       "<script>requirejs.config({paths: { 'plotly': ['https://cdn.plot.ly/plotly-latest.min']},});if(!window.Plotly) {{require(['plotly'],function(plotly) {window.Plotly=plotly;});}}</script>"
      ],
      "text/vnd.plotly.v1+html": [
       "<script>requirejs.config({paths: { 'plotly': ['https://cdn.plot.ly/plotly-latest.min']},});if(!window.Plotly) {{require(['plotly'],function(plotly) {window.Plotly=plotly;});}}</script>"
      ]
     },
     "metadata": {},
     "output_type": "display_data"
    }
   ],
   "source": [
    "import pandas as pd\n",
    "import numpy as np\n",
    "from scipy import stats\n",
    "%matplotlib inline\n",
    "import matplotlib.pyplot as plt\n",
    "from statsmodels.formula.api import ols\n",
    "import pandas as pd\n",
    "import statsmodels.api as sm\n",
    "from IPython.display import Image\n",
    "from sklearn import linear_model, datasets\n",
    "from sklearn.metrics import mean_squared_error\n",
    "from plotly.offline import download_plotlyjs, init_notebook_mode, plot, iplot\n",
    "init_notebook_mode(connected=True)\n",
    "import plotly.graph_objs as go\n",
    "import pylab \n",
    "import scipy.stats as stats"
   ]
  },
  {
   "cell_type": "markdown",
   "metadata": {},
   "source": [
    "<b>Example 1: Mariokart</b><br>\n",
    "Here we'll build a multiple regression model using the Mariokart data that we first saw last class."
   ]
  },
  {
   "cell_type": "code",
   "execution_count": 2,
   "metadata": {},
   "outputs": [
    {
     "data": {
      "text/html": [
       "<div>\n",
       "<style>\n",
       "    .dataframe thead tr:only-child th {\n",
       "        text-align: right;\n",
       "    }\n",
       "\n",
       "    .dataframe thead th {\n",
       "        text-align: left;\n",
       "    }\n",
       "\n",
       "    .dataframe tbody tr th {\n",
       "        vertical-align: top;\n",
       "    }\n",
       "</style>\n",
       "<table border=\"1\" class=\"dataframe\">\n",
       "  <thead>\n",
       "    <tr style=\"text-align: right;\">\n",
       "      <th></th>\n",
       "      <th>ID</th>\n",
       "      <th>duration</th>\n",
       "      <th>nBids</th>\n",
       "      <th>cond</th>\n",
       "      <th>startPr</th>\n",
       "      <th>shipPr</th>\n",
       "      <th>totalPr</th>\n",
       "      <th>shipSp</th>\n",
       "      <th>sellerRate</th>\n",
       "      <th>stockPhoto</th>\n",
       "      <th>wheels</th>\n",
       "      <th>title</th>\n",
       "    </tr>\n",
       "  </thead>\n",
       "  <tbody>\n",
       "    <tr>\n",
       "      <th>0</th>\n",
       "      <td>1.503770e+11</td>\n",
       "      <td>3</td>\n",
       "      <td>20</td>\n",
       "      <td>new</td>\n",
       "      <td>0.99</td>\n",
       "      <td>4.00</td>\n",
       "      <td>51.55</td>\n",
       "      <td>standard</td>\n",
       "      <td>1580</td>\n",
       "      <td>yes</td>\n",
       "      <td>1</td>\n",
       "      <td>~~ Wii MARIO KART &amp;amp; WHEEL ~ NINTENDO Wii ~...</td>\n",
       "    </tr>\n",
       "    <tr>\n",
       "      <th>1</th>\n",
       "      <td>2.604830e+11</td>\n",
       "      <td>7</td>\n",
       "      <td>13</td>\n",
       "      <td>used</td>\n",
       "      <td>0.99</td>\n",
       "      <td>3.99</td>\n",
       "      <td>37.04</td>\n",
       "      <td>firstClass</td>\n",
       "      <td>365</td>\n",
       "      <td>yes</td>\n",
       "      <td>1</td>\n",
       "      <td>Mariokart Wii Nintendo with wheel - Mario Kart...</td>\n",
       "    </tr>\n",
       "    <tr>\n",
       "      <th>2</th>\n",
       "      <td>3.204320e+11</td>\n",
       "      <td>3</td>\n",
       "      <td>16</td>\n",
       "      <td>new</td>\n",
       "      <td>0.99</td>\n",
       "      <td>3.50</td>\n",
       "      <td>45.50</td>\n",
       "      <td>firstClass</td>\n",
       "      <td>998</td>\n",
       "      <td>no</td>\n",
       "      <td>1</td>\n",
       "      <td>Mario Kart Wii (Wii)</td>\n",
       "    </tr>\n",
       "    <tr>\n",
       "      <th>3</th>\n",
       "      <td>2.804050e+11</td>\n",
       "      <td>3</td>\n",
       "      <td>18</td>\n",
       "      <td>new</td>\n",
       "      <td>0.99</td>\n",
       "      <td>0.00</td>\n",
       "      <td>44.00</td>\n",
       "      <td>standard</td>\n",
       "      <td>7</td>\n",
       "      <td>yes</td>\n",
       "      <td>1</td>\n",
       "      <td>Brand New Mario Kart Wii Comes with Wheel. Fre...</td>\n",
       "    </tr>\n",
       "    <tr>\n",
       "      <th>4</th>\n",
       "      <td>1.703920e+11</td>\n",
       "      <td>1</td>\n",
       "      <td>20</td>\n",
       "      <td>new</td>\n",
       "      <td>0.01</td>\n",
       "      <td>0.00</td>\n",
       "      <td>71.00</td>\n",
       "      <td>media</td>\n",
       "      <td>820</td>\n",
       "      <td>yes</td>\n",
       "      <td>2</td>\n",
       "      <td>BRAND NEW NINTENDO 1 WII MARIO KART WITH 2 WHE...</td>\n",
       "    </tr>\n",
       "  </tbody>\n",
       "</table>\n",
       "</div>"
      ],
      "text/plain": [
       "             ID  duration  nBids  cond  startPr  shipPr  totalPr      shipSp  \\\n",
       "0  1.503770e+11         3     20   new     0.99    4.00    51.55    standard   \n",
       "1  2.604830e+11         7     13  used     0.99    3.99    37.04  firstClass   \n",
       "2  3.204320e+11         3     16   new     0.99    3.50    45.50  firstClass   \n",
       "3  2.804050e+11         3     18   new     0.99    0.00    44.00    standard   \n",
       "4  1.703920e+11         1     20   new     0.01    0.00    71.00       media   \n",
       "\n",
       "   sellerRate stockPhoto  wheels  \\\n",
       "0        1580        yes       1   \n",
       "1         365        yes       1   \n",
       "2         998         no       1   \n",
       "3           7        yes       1   \n",
       "4         820        yes       2   \n",
       "\n",
       "                                               title  \n",
       "0  ~~ Wii MARIO KART &amp; WHEEL ~ NINTENDO Wii ~...  \n",
       "1  Mariokart Wii Nintendo with wheel - Mario Kart...  \n",
       "2                               Mario Kart Wii (Wii)  \n",
       "3  Brand New Mario Kart Wii Comes with Wheel. Fre...  \n",
       "4  BRAND NEW NINTENDO 1 WII MARIO KART WITH 2 WHE...  "
      ]
     },
     "execution_count": 2,
     "metadata": {},
     "output_type": "execute_result"
    }
   ],
   "source": [
    "mk_df = pd.read_csv(\"MarioKart.csv\")\n",
    "mk_df.head()"
   ]
  },
  {
   "cell_type": "markdown",
   "metadata": {},
   "source": [
    "Let's make a model to predict the sale price ('totalPr' column). Not all of these columns are appropriate to include in our model, so we'll limit the table to what we'll use."
   ]
  },
  {
   "cell_type": "code",
   "execution_count": 3,
   "metadata": {
    "collapsed": true
   },
   "outputs": [],
   "source": [
    "mk_df_reduced = mk_df[[\"duration\", \"nBids\", \"cond\", \"sellerRate\", \n",
    "                       \"stockPhoto\", \"wheels\", \"totalPr\"]]"
   ]
  },
  {
   "cell_type": "markdown",
   "metadata": {},
   "source": [
    "Now, let's make a regression model with all of these together"
   ]
  },
  {
   "cell_type": "code",
   "execution_count": 4,
   "metadata": {},
   "outputs": [
    {
     "name": "stdout",
     "output_type": "stream",
     "text": [
      "                            OLS Regression Results                            \n",
      "==============================================================================\n",
      "Dep. Variable:                totalPr   R-squared:                       0.749\n",
      "Model:                            OLS   Adj. R-squared:                  0.737\n",
      "Method:                 Least Squares   F-statistic:                     66.55\n",
      "Date:                Fri, 06 Apr 2018   Prob (F-statistic):           8.57e-38\n",
      "Time:                        12:15:19   Log-Likelihood:                -413.77\n",
      "No. Observations:                 141   AIC:                             841.5\n",
      "Df Residuals:                     134   BIC:                             862.2\n",
      "Df Model:                           6                                         \n",
      "Covariance Type:            nonrobust                                         \n",
      "=====================================================================================\n",
      "                        coef    std err          t      P>|t|      [0.025      0.975]\n",
      "-------------------------------------------------------------------------------------\n",
      "Intercept            40.8141      2.042     19.987      0.000      36.775      44.853\n",
      "cond[T.used]         -4.6211      1.018     -4.541      0.000      -6.634      -2.608\n",
      "stockPhoto[T.yes]     0.9677      1.012      0.957      0.340      -1.033       2.968\n",
      "duration              0.0353      0.184      0.192      0.848      -0.328       0.399\n",
      "nBids                -0.0663      0.071     -0.932      0.353      -0.207       0.074\n",
      "sellerRate         2.946e-05   8.08e-06      3.645      0.000    1.35e-05    4.54e-05\n",
      "wheels                7.7155      0.553     13.943      0.000       6.621       8.810\n",
      "==============================================================================\n",
      "Omnibus:                        5.424   Durbin-Watson:                   1.978\n",
      "Prob(Omnibus):                  0.066   Jarque-Bera (JB):                4.928\n",
      "Skew:                           0.427   Prob(JB):                       0.0851\n",
      "Kurtosis:                       3.330   Cond. No.                     3.06e+05\n",
      "==============================================================================\n",
      "\n",
      "Warnings:\n",
      "[1] Standard Errors assume that the covariance matrix of the errors is correctly specified.\n",
      "[2] The condition number is large, 3.06e+05. This might indicate that there are\n",
      "strong multicollinearity or other numerical problems.\n",
      "R-squared is 0.7487\n",
      "R-squared adjusted is 0.7375\n"
     ]
    }
   ],
   "source": [
    "# This is the statsmodel method\n",
    "model = ols(\"totalPr ~ duration + nBids + cond + sellerRate + stockPhoto + wheels\", \n",
    "            data=mk_df_reduced).fit()\n",
    "print(model.summary())\n",
    "print(\"R-squared is %.4f\" % model.rsquared)\n",
    "print(\"R-squared adjusted is %.4f\" % model.rsquared_adj)"
   ]
  },
  {
   "cell_type": "markdown",
   "metadata": {},
   "source": [
    "Another way that we could have generated this model, is to separate the feature and target data. Here we have to create our own encoders."
   ]
  },
  {
   "cell_type": "code",
   "execution_count": 5,
   "metadata": {},
   "outputs": [
    {
     "name": "stdout",
     "output_type": "stream",
     "text": [
      "[  3.53326210e-02  -6.63116197e-02  -4.62107674e+00   2.94579855e-05\n",
      "   9.67683842e-01   7.71546087e+00]\n",
      "Intercept is 40.8141\n",
      "R-squared is 0.7487\n",
      "Adjusted R-squared is 0.7375\n"
     ]
    }
   ],
   "source": [
    "feature_data = mk_df_reduced.drop(\"totalPr\", axis=1)\n",
    "target_data = mk_df_reduced[\"totalPr\"]\n",
    "\n",
    "feature_data[\"cond\"] = pd.get_dummies(feature_data[\"cond\"])[\"used\"]\n",
    "feature_data[\"stockPhoto\"] = pd.get_dummies(feature_data[\"stockPhoto\"])[\"yes\"]\n",
    "\n",
    "reg = linear_model.LinearRegression()  # this is the sklearn method\n",
    "reg.fit(feature_data, target_data)\n",
    "print(reg.coef_)\n",
    "print(\"Intercept is %.4f\" % reg.intercept_)\n",
    "\n",
    "# We can get the r-squared value using the score function\n",
    "r2 = reg.score(feature_data, target_data)\n",
    "# To get the adjusted r-squared, we use a slightly different formula:\n",
    "# r2-adj = 1 - [((1-r2) * (n-1)) / (n - p - 1)]\n",
    "r2_adj = 1 - (1-r2)*(len(target_data)-1) / (len(target_data) - feature_data.shape[1]-1)\n",
    "\n",
    "print(\"R-squared is %.4f\" % r2)\n",
    "print(\"Adjusted R-squared is %.4f\" % r2_adj)"
   ]
  },
  {
   "cell_type": "markdown",
   "metadata": {},
   "source": [
    "## Feature Correlation\n",
    "Correlation of input features can interfere with how well our model performs. We can examine this by looking at the feature correlation matrix."
   ]
  },
  {
   "cell_type": "code",
   "execution_count": 6,
   "metadata": {},
   "outputs": [
    {
     "data": {
      "text/html": [
       "<div>\n",
       "<style>\n",
       "    .dataframe thead tr:only-child th {\n",
       "        text-align: right;\n",
       "    }\n",
       "\n",
       "    .dataframe thead th {\n",
       "        text-align: left;\n",
       "    }\n",
       "\n",
       "    .dataframe tbody tr th {\n",
       "        vertical-align: top;\n",
       "    }\n",
       "</style>\n",
       "<table border=\"1\" class=\"dataframe\">\n",
       "  <thead>\n",
       "    <tr style=\"text-align: right;\">\n",
       "      <th></th>\n",
       "      <th>duration</th>\n",
       "      <th>nBids</th>\n",
       "      <th>cond</th>\n",
       "      <th>sellerRate</th>\n",
       "      <th>stockPhoto</th>\n",
       "      <th>wheels</th>\n",
       "    </tr>\n",
       "  </thead>\n",
       "  <tbody>\n",
       "    <tr>\n",
       "      <th>duration</th>\n",
       "      <td>1.000000</td>\n",
       "      <td>-0.133356</td>\n",
       "      <td>0.481270</td>\n",
       "      <td>-0.153767</td>\n",
       "      <td>-0.365292</td>\n",
       "      <td>-0.316171</td>\n",
       "    </tr>\n",
       "    <tr>\n",
       "      <th>nBids</th>\n",
       "      <td>-0.133356</td>\n",
       "      <td>1.000000</td>\n",
       "      <td>-0.101138</td>\n",
       "      <td>-0.100755</td>\n",
       "      <td>0.140992</td>\n",
       "      <td>-0.070488</td>\n",
       "    </tr>\n",
       "    <tr>\n",
       "      <th>cond</th>\n",
       "      <td>0.481270</td>\n",
       "      <td>-0.101138</td>\n",
       "      <td>1.000000</td>\n",
       "      <td>-0.149490</td>\n",
       "      <td>-0.364792</td>\n",
       "      <td>-0.430700</td>\n",
       "    </tr>\n",
       "    <tr>\n",
       "      <th>sellerRate</th>\n",
       "      <td>-0.153767</td>\n",
       "      <td>-0.100755</td>\n",
       "      <td>-0.149490</td>\n",
       "      <td>1.000000</td>\n",
       "      <td>0.149868</td>\n",
       "      <td>-0.148128</td>\n",
       "    </tr>\n",
       "    <tr>\n",
       "      <th>stockPhoto</th>\n",
       "      <td>-0.365292</td>\n",
       "      <td>0.140992</td>\n",
       "      <td>-0.364792</td>\n",
       "      <td>0.149868</td>\n",
       "      <td>1.000000</td>\n",
       "      <td>0.064968</td>\n",
       "    </tr>\n",
       "    <tr>\n",
       "      <th>wheels</th>\n",
       "      <td>-0.316171</td>\n",
       "      <td>-0.070488</td>\n",
       "      <td>-0.430700</td>\n",
       "      <td>-0.148128</td>\n",
       "      <td>0.064968</td>\n",
       "      <td>1.000000</td>\n",
       "    </tr>\n",
       "  </tbody>\n",
       "</table>\n",
       "</div>"
      ],
      "text/plain": [
       "            duration     nBids      cond  sellerRate  stockPhoto    wheels\n",
       "duration    1.000000 -0.133356  0.481270   -0.153767   -0.365292 -0.316171\n",
       "nBids      -0.133356  1.000000 -0.101138   -0.100755    0.140992 -0.070488\n",
       "cond        0.481270 -0.101138  1.000000   -0.149490   -0.364792 -0.430700\n",
       "sellerRate -0.153767 -0.100755 -0.149490    1.000000    0.149868 -0.148128\n",
       "stockPhoto -0.365292  0.140992 -0.364792    0.149868    1.000000  0.064968\n",
       "wheels     -0.316171 -0.070488 -0.430700   -0.148128    0.064968  1.000000"
      ]
     },
     "execution_count": 6,
     "metadata": {},
     "output_type": "execute_result"
    }
   ],
   "source": [
    "corr_matrix = feature_data.corr()\n",
    "corr_matrix"
   ]
  },
  {
   "cell_type": "code",
   "execution_count": 12,
   "metadata": {},
   "outputs": [
    {
     "data": {
      "application/vnd.plotly.v1+json": {
       "data": [
        {
         "type": "heatmap",
         "x": [
          "duration",
          "nBids",
          "cond",
          "sellerRate",
          "stockPhoto",
          "wheels"
         ],
         "y": [
          "duration",
          "nBids",
          "cond",
          "sellerRate",
          "stockPhoto",
          "wheels"
         ],
         "z": [
          [
           1,
           -0.13335606144390932,
           0.48126968079547505,
           -0.1537668192160063,
           -0.3652916890236751,
           -0.31617084275016405
          ],
          [
           -0.13335606144390932,
           1,
           -0.10113830277279559,
           -0.10075474569594599,
           0.1409917126839458,
           -0.07048803375814759
          ],
          [
           0.48126968079547505,
           -0.10113830277279559,
           1,
           -0.14949043567273185,
           -0.36479238711702494,
           -0.43069963435088093
          ],
          [
           -0.1537668192160063,
           -0.10075474569594599,
           -0.14949043567273185,
           1,
           0.14986761543599933,
           -0.14812755498060495
          ],
          [
           -0.3652916890236751,
           0.1409917126839458,
           -0.36479238711702494,
           0.14986761543599933,
           1,
           0.06496811582835058
          ],
          [
           -0.31617084275016405,
           -0.07048803375814759,
           -0.43069963435088093,
           -0.14812755498060495,
           0.06496811582835058,
           1
          ]
         ]
        }
       ],
       "layout": {}
      },
      "text/html": [
       "<div id=\"bb8934fe-1ef1-4e23-8738-f06cf2cd8f76\" style=\"height: 525px; width: 100%;\" class=\"plotly-graph-div\"></div><script type=\"text/javascript\">require([\"plotly\"], function(Plotly) { window.PLOTLYENV=window.PLOTLYENV || {};window.PLOTLYENV.BASE_URL=\"https://plot.ly\";Plotly.newPlot(\"bb8934fe-1ef1-4e23-8738-f06cf2cd8f76\", [{\"type\": \"heatmap\", \"z\": [[1.0, -0.13335606144390932, 0.48126968079547505, -0.1537668192160063, -0.3652916890236751, -0.31617084275016405], [-0.13335606144390932, 1.0, -0.10113830277279559, -0.10075474569594599, 0.1409917126839458, -0.07048803375814759], [0.48126968079547505, -0.10113830277279559, 1.0, -0.14949043567273185, -0.36479238711702494, -0.43069963435088093], [-0.1537668192160063, -0.10075474569594599, -0.14949043567273185, 1.0, 0.14986761543599933, -0.14812755498060495], [-0.3652916890236751, 0.1409917126839458, -0.36479238711702494, 0.14986761543599933, 1.0, 0.06496811582835058], [-0.31617084275016405, -0.07048803375814759, -0.43069963435088093, -0.14812755498060495, 0.06496811582835058, 1.0]], \"x\": [\"duration\", \"nBids\", \"cond\", \"sellerRate\", \"stockPhoto\", \"wheels\"], \"y\": [\"duration\", \"nBids\", \"cond\", \"sellerRate\", \"stockPhoto\", \"wheels\"]}], {}, {\"showLink\": true, \"linkText\": \"Export to plot.ly\"})});</script>"
      ],
      "text/vnd.plotly.v1+html": [
       "<div id=\"bb8934fe-1ef1-4e23-8738-f06cf2cd8f76\" style=\"height: 525px; width: 100%;\" class=\"plotly-graph-div\"></div><script type=\"text/javascript\">require([\"plotly\"], function(Plotly) { window.PLOTLYENV=window.PLOTLYENV || {};window.PLOTLYENV.BASE_URL=\"https://plot.ly\";Plotly.newPlot(\"bb8934fe-1ef1-4e23-8738-f06cf2cd8f76\", [{\"type\": \"heatmap\", \"z\": [[1.0, -0.13335606144390932, 0.48126968079547505, -0.1537668192160063, -0.3652916890236751, -0.31617084275016405], [-0.13335606144390932, 1.0, -0.10113830277279559, -0.10075474569594599, 0.1409917126839458, -0.07048803375814759], [0.48126968079547505, -0.10113830277279559, 1.0, -0.14949043567273185, -0.36479238711702494, -0.43069963435088093], [-0.1537668192160063, -0.10075474569594599, -0.14949043567273185, 1.0, 0.14986761543599933, -0.14812755498060495], [-0.3652916890236751, 0.1409917126839458, -0.36479238711702494, 0.14986761543599933, 1.0, 0.06496811582835058], [-0.31617084275016405, -0.07048803375814759, -0.43069963435088093, -0.14812755498060495, 0.06496811582835058, 1.0]], \"x\": [\"duration\", \"nBids\", \"cond\", \"sellerRate\", \"stockPhoto\", \"wheels\"], \"y\": [\"duration\", \"nBids\", \"cond\", \"sellerRate\", \"stockPhoto\", \"wheels\"]}], {}, {\"showLink\": true, \"linkText\": \"Export to plot.ly\"})});</script>"
      ]
     },
     "metadata": {},
     "output_type": "display_data"
    }
   ],
   "source": [
    "trace = go.Heatmap(z=np.array(corr_matrix), x=corr_matrix.columns, y=corr_matrix.columns)\n",
    "data=[trace]\n",
    "iplot(data)"
   ]
  },
  {
   "cell_type": "markdown",
   "metadata": {},
   "source": [
    "## Evaluating Our Model"
   ]
  },
  {
   "cell_type": "code",
   "execution_count": 8,
   "metadata": {
    "scrolled": true
   },
   "outputs": [
    {
     "data": {
      "image/png": "[encoded data removed]",
      "text/plain": [
       "<matplotlib.figure.Figure at 0x1183fcac8>"
      ]
     },
     "metadata": {},
     "output_type": "display_data"
    }
   ],
   "source": [
    "# Generate a normality (Quartiles) plot\n",
    "res = model.resid\n",
    "sm.graphics.qqplot(res)\n",
    "plt.show()"
   ]
  },
  {
   "cell_type": "code",
   "execution_count": 9,
   "metadata": {},
   "outputs": [
    {
     "data": {
      "image/png": "[encoded data removed]",
      "text/plain": [
       "<matplotlib.figure.Figure at 0x1c2179ef60>"
      ]
     },
     "metadata": {},
     "output_type": "display_data"
    }
   ],
   "source": [
    "# Residuals vs prediction\n",
    "yhat = reg.predict(feature_data)\n",
    "plt.scatter(yhat, np.abs(res))\n",
    "plt.xlabel(\"Prediction\")\n",
    "plt.ylabel(\"Absolute value of residual\")\n",
    "plt.show()"
   ]
  },
  {
   "cell_type": "code",
   "execution_count": 10,
   "metadata": {},
   "outputs": [
    {
     "data": {
      "image/png": "[encoded data removed]",
      "text/plain": [
       "<matplotlib.figure.Figure at 0x1c2188bc18>"
      ]
     },
     "metadata": {},
     "output_type": "display_data"
    }
   ],
   "source": [
    "# Residuals by order of collection\n",
    "plt.scatter(np.arange(res.__len__()), np.abs(res))\n",
    "plt.xlabel(\"Order of collection\")\n",
    "plt.ylabel(\"Absolute value of residual\")\n",
    "plt.show()"
   ]
  },
  {
   "cell_type": "code",
   "execution_count": 11,
   "metadata": {},
   "outputs": [
    {
     "data": {
      "application/vnd.plotly.v1+json": {
       "data": [
        {
         "name": "With Photo",
         "type": "box",
         "y": [
          3.2264431557662903,
          -7.232200475051805,
          -4.409842672477552,
          15.054035598342729,
          -3.585762004341561,
          0.4714363177682088,
          -2.406473845425836,
          3.940072723035783,
          -1.406473845425836,
          -0.26752250011301015,
          -8.529097084808129,
          -0.21121088042185931,
          -1.40016617795645,
          10.04171461770337,
          -1.9722768996959061,
          -2.078284574021822,
          -0.7380319438815661,
          -5.8786211178353085,
          -2.3501622257346924,
          4.2820650822866355,
          -5.6975389863523915,
          2.3085037803936643,
          -1.0122760213484199,
          -2.436239861057672,
          -0.9355917853774116,
          -1.7517282046932792,
          6.532854800783888,
          -5.484565847904129,
          -2.673318613250366,
          -1.6876114857395237,
          -4.563387449569461,
          0.7899131102462746,
          7.195656436427285,
          -2.702785465116982,
          -3.4781111697497735,
          -0.2738506060435384,
          -2.4637085258678937,
          -2.6054087044992755,
          2.9057626259633835,
          1.7904303908746613,
          3.1519680561184344,
          -7.235504920923834,
          3.6403444022446863,
          7.575168536770867,
          -4.273748441410326,
          -1.8759808878966595,
          -6.614875301922943,
          1.205656436427283,
          9.715983835995893,
          -2.5390970848081267,
          -4.197728993386505,
          -2.0249112006869723,
          0.054035598342728974,
          4.2820650822866355,
          3.280573667600052,
          0.7037566358227494,
          5.8005210492382275,
          -0.9454926410641491,
          -1.8706551832638638,
          1.485866580662055,
          1.5548633093345359,
          7.605915022153162,
          -0.9438571601547565,
          5.413477971899482,
          0.5639060713107682,
          10.787473106364487,
          -0.6848167608343516,
          2.5904307068276182,
          1.8707330592436762,
          -5.289628823158356,
          3.8954538134033783,
          -8.220515525576971,
          -3.4749157469700975,
          -7.539097084808127,
          5.77206508228663,
          7.686658837725027,
          -1.5624261068673064,
          -11.527918281583858,
          -2.570162225734691,
          -2.5899409416424817,
          -1.1635906668094975,
          -2.10090536379883,
          -0.010819262548629638,
          1.7666423514856362,
          6.749227453320174,
          4.2603579336563655,
          -2.5949614657490017,
          -4.436217822683986,
          -3.6869079629834545,
          -2.168992646303842,
          8.779101627811698,
          -0.2638506060435404,
          -9.48399275871548,
          -2.1100454918120093,
          4.98772397865158,
          6.546165880195851,
          -2.8826257420717383,
          4.2820650822866355,
          -0.19622663612771873,
          -3.0027657528386342,
          2.7824610136476053,
          2.5616299745835462,
          3.4256176556062314,
          -0.9822768996959041,
          -2.0190970848081307
         ]
        },
        {
         "name": "No Photo",
         "type": "box",
         "y": [
          -2.103974933592255,
          6.368756377973597,
          4.509968586810885,
          11.724550101329704,
          0.9087070432440072,
          -2.4316833465749426,
          -2.146768748631345,
          -4.731919562742945,
          2.902519171889537,
          -7.0137701637408725,
          -3.5644648965560464,
          4.371990596805546,
          0.6101736740897152,
          -5.347977361734756,
          2.898556414796893,
          5.679809311522334,
          -1.8086860036251409,
          -2.847458544049722,
          -6.245305417533885,
          -1.8075399058414376,
          2.595595978153902,
          -2.15031133977746,
          -0.2943830861867269,
          -7.277505988108302,
          -4.897818636321297,
          -0.0722438217289536,
          5.667262760463309,
          4.318997849688017,
          3.028154677979714,
          -2.215275721525785,
          -2.072457137308362,
          1.4105492328301779,
          1.2803241387910234,
          -3.1488236914934333,
          0.7219637681533015,
          3.1804886224526854
         ]
        }
       ],
       "layout": {
        "xaxis": {
         "title": "stockPhoto Values"
        },
        "yaxis": {
         "title": "Residual"
        }
       }
      },
      "text/html": [
       "<div id=\"e2a6300a-bdae-4fd4-85c2-c48e60b7fa30\" style=\"height: 525px; width: 100%;\" class=\"plotly-graph-div\"></div><script type=\"text/javascript\">require([\"plotly\"], function(Plotly) { window.PLOTLYENV=window.PLOTLYENV || {};window.PLOTLYENV.BASE_URL=\"https://plot.ly\";Plotly.newPlot(\"e2a6300a-bdae-4fd4-85c2-c48e60b7fa30\", [{\"type\": \"box\", \"y\": [3.2264431557662903, -7.232200475051805, -4.409842672477552, 15.054035598342729, -3.585762004341561, 0.4714363177682088, -2.406473845425836, 3.940072723035783, -1.406473845425836, -0.26752250011301015, -8.529097084808129, -0.21121088042185931, -1.40016617795645, 10.04171461770337, -1.9722768996959061, -2.078284574021822, -0.7380319438815661, -5.8786211178353085, -2.3501622257346924, 4.2820650822866355, -5.6975389863523915, 2.3085037803936643, -1.0122760213484199, -2.436239861057672, -0.9355917853774116, -1.7517282046932792, 6.532854800783888, -5.484565847904129, -2.673318613250366, -1.6876114857395237, -4.563387449569461, 0.7899131102462746, 7.195656436427285, -2.702785465116982, -3.4781111697497735, -0.2738506060435384, -2.4637085258678937, -2.6054087044992755, 2.9057626259633835, 1.7904303908746613, 3.1519680561184344, -7.235504920923834, 3.6403444022446863, 7.575168536770867, -4.273748441410326, -1.8759808878966595, -6.614875301922943, 1.205656436427283, 9.715983835995893, -2.5390970848081267, -4.197728993386505, -2.0249112006869723, 0.054035598342728974, 4.2820650822866355, 3.280573667600052, 0.7037566358227494, 5.8005210492382275, -0.9454926410641491, -1.8706551832638638, 1.485866580662055, 1.5548633093345359, 7.605915022153162, -0.9438571601547565, 5.413477971899482, 0.5639060713107682, 10.787473106364487, -0.6848167608343516, 2.5904307068276182, 1.8707330592436762, -5.289628823158356, 3.8954538134033783, -8.220515525576971, -3.4749157469700975, -7.539097084808127, 5.77206508228663, 7.686658837725027, -1.5624261068673064, -11.527918281583858, -2.570162225734691, -2.5899409416424817, -1.1635906668094975, -2.10090536379883, -0.010819262548629638, 1.7666423514856362, 6.749227453320174, 4.2603579336563655, -2.5949614657490017, -4.436217822683986, -3.6869079629834545, -2.168992646303842, 8.779101627811698, -0.2638506060435404, -9.48399275871548, -2.1100454918120093, 4.98772397865158, 6.546165880195851, -2.8826257420717383, 4.2820650822866355, -0.19622663612771873, -3.0027657528386342, 2.7824610136476053, 2.5616299745835462, 3.4256176556062314, -0.9822768996959041, -2.0190970848081307], \"name\": \"With Photo\"}, {\"type\": \"box\", \"y\": [-2.103974933592255, 6.368756377973597, 4.509968586810885, 11.724550101329704, 0.9087070432440072, -2.4316833465749426, -2.146768748631345, -4.731919562742945, 2.902519171889537, -7.0137701637408725, -3.5644648965560464, 4.371990596805546, 0.6101736740897152, -5.347977361734756, 2.898556414796893, 5.679809311522334, -1.8086860036251409, -2.847458544049722, -6.245305417533885, -1.8075399058414376, 2.595595978153902, -2.15031133977746, -0.2943830861867269, -7.277505988108302, -4.897818636321297, -0.0722438217289536, 5.667262760463309, 4.318997849688017, 3.028154677979714, -2.215275721525785, -2.072457137308362, 1.4105492328301779, 1.2803241387910234, -3.1488236914934333, 0.7219637681533015, 3.1804886224526854], \"name\": \"No Photo\"}], {\"yaxis\": {\"title\": \"Residual\"}, \"xaxis\": {\"title\": \"stockPhoto Values\"}}, {\"showLink\": true, \"linkText\": \"Export to plot.ly\"})});</script>"
      ],
      "text/vnd.plotly.v1+html": [
       "<div id=\"e2a6300a-bdae-4fd4-85c2-c48e60b7fa30\" style=\"height: 525px; width: 100%;\" class=\"plotly-graph-div\"></div><script type=\"text/javascript\">require([\"plotly\"], function(Plotly) { window.PLOTLYENV=window.PLOTLYENV || {};window.PLOTLYENV.BASE_URL=\"https://plot.ly\";Plotly.newPlot(\"e2a6300a-bdae-4fd4-85c2-c48e60b7fa30\", [{\"type\": \"box\", \"y\": [3.2264431557662903, -7.232200475051805, -4.409842672477552, 15.054035598342729, -3.585762004341561, 0.4714363177682088, -2.406473845425836, 3.940072723035783, -1.406473845425836, -0.26752250011301015, -8.529097084808129, -0.21121088042185931, -1.40016617795645, 10.04171461770337, -1.9722768996959061, -2.078284574021822, -0.7380319438815661, -5.8786211178353085, -2.3501622257346924, 4.2820650822866355, -5.6975389863523915, 2.3085037803936643, -1.0122760213484199, -2.436239861057672, -0.9355917853774116, -1.7517282046932792, 6.532854800783888, -5.484565847904129, -2.673318613250366, -1.6876114857395237, -4.563387449569461, 0.7899131102462746, 7.195656436427285, -2.702785465116982, -3.4781111697497735, -0.2738506060435384, -2.4637085258678937, -2.6054087044992755, 2.9057626259633835, 1.7904303908746613, 3.1519680561184344, -7.235504920923834, 3.6403444022446863, 7.575168536770867, -4.273748441410326, -1.8759808878966595, -6.614875301922943, 1.205656436427283, 9.715983835995893, -2.5390970848081267, -4.197728993386505, -2.0249112006869723, 0.054035598342728974, 4.2820650822866355, 3.280573667600052, 0.7037566358227494, 5.8005210492382275, -0.9454926410641491, -1.8706551832638638, 1.485866580662055, 1.5548633093345359, 7.605915022153162, -0.9438571601547565, 5.413477971899482, 0.5639060713107682, 10.787473106364487, -0.6848167608343516, 2.5904307068276182, 1.8707330592436762, -5.289628823158356, 3.8954538134033783, -8.220515525576971, -3.4749157469700975, -7.539097084808127, 5.77206508228663, 7.686658837725027, -1.5624261068673064, -11.527918281583858, -2.570162225734691, -2.5899409416424817, -1.1635906668094975, -2.10090536379883, -0.010819262548629638, 1.7666423514856362, 6.749227453320174, 4.2603579336563655, -2.5949614657490017, -4.436217822683986, -3.6869079629834545, -2.168992646303842, 8.779101627811698, -0.2638506060435404, -9.48399275871548, -2.1100454918120093, 4.98772397865158, 6.546165880195851, -2.8826257420717383, 4.2820650822866355, -0.19622663612771873, -3.0027657528386342, 2.7824610136476053, 2.5616299745835462, 3.4256176556062314, -0.9822768996959041, -2.0190970848081307], \"name\": \"With Photo\"}, {\"type\": \"box\", \"y\": [-2.103974933592255, 6.368756377973597, 4.509968586810885, 11.724550101329704, 0.9087070432440072, -2.4316833465749426, -2.146768748631345, -4.731919562742945, 2.902519171889537, -7.0137701637408725, -3.5644648965560464, 4.371990596805546, 0.6101736740897152, -5.347977361734756, 2.898556414796893, 5.679809311522334, -1.8086860036251409, -2.847458544049722, -6.245305417533885, -1.8075399058414376, 2.595595978153902, -2.15031133977746, -0.2943830861867269, -7.277505988108302, -4.897818636321297, -0.0722438217289536, 5.667262760463309, 4.318997849688017, 3.028154677979714, -2.215275721525785, -2.072457137308362, 1.4105492328301779, 1.2803241387910234, -3.1488236914934333, 0.7219637681533015, 3.1804886224526854], \"name\": \"No Photo\"}], {\"yaxis\": {\"title\": \"Residual\"}, \"xaxis\": {\"title\": \"stockPhoto Values\"}}, {\"showLink\": true, \"linkText\": \"Export to plot.ly\"})});</script>"
      ]
     },
     "metadata": {},
     "output_type": "display_data"
    }
   ],
   "source": [
    "has_photo = res[feature_data['stockPhoto'] == 1]\n",
    "no_photo = res[feature_data['stockPhoto'] == 0]\n",
    "\n",
    "trace0 = go.Box(\n",
    "    y=has_photo,\n",
    "    name=\"With Photo\"\n",
    ")\n",
    "trace1 = go.Box(\n",
    "    y=no_photo,\n",
    "    name=\"No Photo\"\n",
    ")\n",
    "\n",
    "layout = go.Layout(\n",
    "    yaxis = dict(title=\"Residual\"),\n",
    "    xaxis = dict(title=\"stockPhoto Values\")\n",
    ")\n",
    "\n",
    "data = [trace0, trace1]\n",
    "fig = go.Figure(data=data, layout=layout)\n",
    "iplot(fig)"
   ]
  },
  {
   "cell_type": "markdown",
   "metadata": {},
   "source": [
    "## Optimizing Our Model\n",
    "Maybe including each of the input features was not the way to generate the best model. Let's find the best model using two approaches (backward elimination and forward selection)."
   ]
  },
  {
   "cell_type": "markdown",
   "metadata": {},
   "source": [
    "<b>Backward Elimination</b><br>\n",
    "Here we start with the full model, and then elminiate one feature at a time."
   ]
  },
  {
   "cell_type": "code",
   "execution_count": 12,
   "metadata": {
    "collapsed": true
   },
   "outputs": [],
   "source": [
    "r2 = reg.score(feature_data, target_data)"
   ]
  },
  {
   "cell_type": "code",
   "execution_count": 13,
   "metadata": {},
   "outputs": [
    {
     "name": "stdout",
     "output_type": "stream",
     "text": [
      "R-squared adjusted for the full model is 0.73748\n"
     ]
    }
   ],
   "source": [
    "feature_data = mk_df_reduced.drop(\"totalPr\", axis=1)\n",
    "target_data = mk_df_reduced[\"totalPr\"]\n",
    "\n",
    "feature_data[\"cond\"] = pd.get_dummies(feature_data[\"cond\"])[\"used\"]\n",
    "feature_data[\"stockPhoto\"] = pd.get_dummies(feature_data[\"stockPhoto\"])[\"yes\"]\n",
    "\n",
    "reg = linear_model.LinearRegression()\n",
    "reg.fit(feature_data, target_data)\n",
    "r2 = reg.score(feature_data, target_data)\n",
    "r2_adj = 1 - (1-r2)*(len(target_data)-1) / (len(target_data) - feature_data.shape[1]-1)\n",
    "\n",
    "print(\"R-squared adjusted for the full model is %.5f\" % r2_adj)"
   ]
  },
  {
   "cell_type": "markdown",
   "metadata": {},
   "source": [
    "The next step in backward elimination is to eliminate one feature at a time. After each feature is eliminated we'll look at the adjusted R-squared value."
   ]
  },
  {
   "cell_type": "code",
   "execution_count": 14,
   "metadata": {},
   "outputs": [
    {
     "name": "stdout",
     "output_type": "stream",
     "text": [
      "We can improve R-squared to 0.73935 by leaving out duration\n",
      "We can improve R-squared to 0.73773 by leaving out nBids\n",
      "We can improve R-squared to 0.73764 by leaving out stockPhoto\n"
     ]
    }
   ],
   "source": [
    "baseline_performance = 0.73748\n",
    "\n",
    "for feature in feature_data.columns:\n",
    "    feature_data_temp = feature_data.drop(feature, axis=1)\n",
    "    reg_up = linear_model.LinearRegression()\n",
    "    reg_up.fit(feature_data_temp, target_data)\n",
    "    \n",
    "    r2_up = reg_up.score(feature_data_temp, target_data)\n",
    "    r2_adj_up = 1 - (1-r2_up)*(len(target_data)-1) / (len(target_data) - feature_data_temp.shape[1]-1)\n",
    "\n",
    "    if r2_adj_up > baseline_performance:\n",
    "        print(\"We can improve R-squared to %.5f by leaving out %s\" % (r2_adj_up, feature))"
   ]
  },
  {
   "cell_type": "markdown",
   "metadata": {},
   "source": [
    "It seems we can improve upon the model the most by leaving out duration. Let's take it out, and see if we can improve the model further by subtracting any other features."
   ]
  },
  {
   "cell_type": "code",
   "execution_count": 15,
   "metadata": {},
   "outputs": [
    {
     "name": "stdout",
     "output_type": "stream",
     "text": [
      "We can improve R-squared to 0.73949 by leaving out nBids\n",
      "We can improve R-squared to 0.73957 by leaving out stockPhoto\n"
     ]
    }
   ],
   "source": [
    "feature_data_down_one = feature_data.drop(\"duration\", axis=1)\n",
    "baseline_performance = 0.73935\n",
    "\n",
    "for feature in feature_data_down_one.columns:\n",
    "    feature_data_temp = feature_data_down_one.drop(feature, axis=1)\n",
    "    reg_up = linear_model.LinearRegression()\n",
    "    reg_up.fit(feature_data_temp, target_data)\n",
    "    \n",
    "    r2_up = reg_up.score(feature_data_temp, target_data)\n",
    "    r2_adj_up = 1 - (1-r2_up)*(len(target_data)-1) / (len(target_data) - feature_data_temp.shape[1]-1)\n",
    "\n",
    "    if r2_adj_up > baseline_performance:\n",
    "        print(\"We can improve R-squared to %.5f by leaving out %s\" % (r2_adj_up, feature))    "
   ]
  },
  {
   "cell_type": "markdown",
   "metadata": {},
   "source": [
    "Again, the model can be improved by leaving out 'stockPhoto'. Let's try one more time."
   ]
  },
  {
   "cell_type": "code",
   "execution_count": 16,
   "metadata": {},
   "outputs": [
    {
     "name": "stdout",
     "output_type": "stream",
     "text": [
      "We can improve R-squared to 0.74006 by leaving out nBids\n"
     ]
    }
   ],
   "source": [
    "feature_data_down_two = feature_data_down_one.drop(\"stockPhoto\", axis=1)\n",
    "baseline_performance = 0.73957\n",
    "\n",
    "for feature in feature_data_down_two.columns:\n",
    "    feature_data_temp = feature_data_down_two.drop(feature, axis=1)\n",
    "    reg_up = linear_model.LinearRegression()\n",
    "    reg_up.fit(feature_data_temp, target_data)\n",
    "    \n",
    "    r2_up = reg_up.score(feature_data_temp, target_data)\n",
    "    r2_adj_up = 1 - (1-r2_up)*(len(target_data)-1) / (len(target_data) - feature_data_temp.shape[1]-1)\n",
    "    \n",
    "    if r2_adj_up > baseline_performance:\n",
    "        print(\"We can improve R-squared to %.5f by leaving out %s\" % (r2_adj_up, feature))   "
   ]
  },
  {
   "cell_type": "markdown",
   "metadata": {},
   "source": [
    "Again, we've improved. So let's take out nBids and try again"
   ]
  },
  {
   "cell_type": "code",
   "execution_count": 17,
   "metadata": {
    "collapsed": true
   },
   "outputs": [],
   "source": [
    "feature_data_down_three = feature_data_down_two.drop(\"nBids\", axis=1)\n",
    "baseline_performance = 0.74006\n",
    "\n",
    "for feature in feature_data_down_three.columns:\n",
    "    feature_data_temp = feature_data_down_three.drop(feature, axis=1)\n",
    "    reg_up = linear_model.LinearRegression()\n",
    "    reg_up.fit(feature_data_temp, target_data)\n",
    "\n",
    "    r2_up = reg_up.score(feature_data_temp, target_data)\n",
    "    r2_adj_up = 1 - (1-r2_up)*(len(target_data)-1) / (len(target_data) - feature_data_temp.shape[1]-1)\n",
    "        \n",
    "    if r2_adj_up > baseline_performance:\n",
    "        print(\"We can improve R-squared to %.5f by leaving out %s\" % (r2_adj_up, feature))     "
   ]
  },
  {
   "cell_type": "markdown",
   "metadata": {},
   "source": [
    "Finally we see no improvement. Our best model then was when we were down three (0.74006)."
   ]
  },
  {
   "cell_type": "code",
   "execution_count": 18,
   "metadata": {},
   "outputs": [
    {
     "name": "stdout",
     "output_type": "stream",
     "text": [
      "Index(['cond', 'sellerRate', 'wheels'], dtype='object')\n"
     ]
    }
   ],
   "source": [
    "best_features = feature_data_down_three.columns\n",
    "print(best_features)"
   ]
  },
  {
   "cell_type": "markdown",
   "metadata": {},
   "source": [
    "<b>Forward Selection</b><br>\n",
    "Conversely, in forward selection we start with an R-squared of zero, then add features one at a time to see if we can get the model to improve."
   ]
  },
  {
   "cell_type": "code",
   "execution_count": 19,
   "metadata": {},
   "outputs": [
    {
     "name": "stdout",
     "output_type": "stream",
     "text": [
      "We can improve R-squared to 0.13381 by including duration\n",
      "We can improve R-squared to 0.34588 by including cond\n",
      "We can improve R-squared to 0.00497 by including sellerRate\n",
      "We can improve R-squared to 0.03317 by including stockPhoto\n",
      "We can improve R-squared to 0.63898 by including wheels\n"
     ]
    }
   ],
   "source": [
    "baseline_performance = 0\n",
    "feature_pool = feature_data.columns.tolist()\n",
    "\n",
    "for feature in feature_pool:\n",
    "    feature_data_temp = pd.DataFrame(feature_data[feature])\n",
    "    reg_up = linear_model.LinearRegression()\n",
    "    reg_up.fit(feature_data_temp, target_data)\n",
    "    \n",
    "    r2_up = reg_up.score(feature_data_temp, target_data)\n",
    "    r2_adj_up = 1 - (1-r2_up)*(len(target_data)-1) / (len(target_data) - feature_data_temp.shape[1]-1)    \n",
    "    \n",
    "    if r2_adj_up > baseline_performance:\n",
    "        print(\"We can improve R-squared to %.5f by including %s\" % (r2_adj_up, feature))         "
   ]
  },
  {
   "cell_type": "markdown",
   "metadata": {},
   "source": [
    "Just including the feature 'wheels' gave us a strong model. Now, let's add on additional features and see how we improve."
   ]
  },
  {
   "cell_type": "code",
   "execution_count": 20,
   "metadata": {},
   "outputs": [
    {
     "name": "stdout",
     "output_type": "stream",
     "text": [
      "We can improve R-squared to 0.65284 by including duration\n",
      "We can improve R-squared to 0.71241 by including cond\n",
      "We can improve R-squared to 0.69054 by including sellerRate\n",
      "We can improve R-squared to 0.65872 by including stockPhoto\n"
     ]
    }
   ],
   "source": [
    "baseline_performance = 0.63898\n",
    "kept_features = [\"wheels\"]\n",
    "feature_pool.remove(\"wheels\")\n",
    "\n",
    "for feature in feature_pool:\n",
    "    kept_features_temp = kept_features[:]\n",
    "    kept_features_temp.append(feature)\n",
    "    feature_data_temp = pd.DataFrame(feature_data[kept_features_temp])\n",
    "    reg_up = linear_model.LinearRegression()\n",
    "    reg_up.fit(feature_data_temp, target_data)\n",
    "    \n",
    "    r2_up = reg_up.score(feature_data_temp, target_data)\n",
    "    r2_adj_up = 1 - (1-r2_up)*(len(target_data)-1) / (len(target_data) - feature_data_temp.shape[1]-1)\n",
    "\n",
    "    if r2_adj_up > baseline_performance:\n",
    "        print(\"We can improve R-squared to %.5f by including %s\" % (r2_adj_up, feature))"
   ]
  },
  {
   "cell_type": "markdown",
   "metadata": {},
   "source": [
    "Adding in 'cond' seems to have the greatest impact on performance. Let's see the effect of adding more."
   ]
  },
  {
   "cell_type": "code",
   "execution_count": 21,
   "metadata": {},
   "outputs": [
    {
     "name": "stdout",
     "output_type": "stream",
     "text": [
      "We can improve R-squared to 0.71437 by including nBids\n",
      "We can improve R-squared to 0.74006 by including sellerRate\n",
      "We can improve R-squared to 0.71283 by including stockPhoto\n"
     ]
    }
   ],
   "source": [
    "baseline_performance = 0.71241\n",
    "kept_features = [\"wheels\", \"cond\"]\n",
    "feature_pool.remove(\"cond\")\n",
    "\n",
    "for feature in feature_pool:\n",
    "    kept_features_temp = kept_features[:]\n",
    "    kept_features_temp.append(feature)\n",
    "    feature_data_temp = pd.DataFrame(feature_data[kept_features_temp])\n",
    "    reg_up = linear_model.LinearRegression()\n",
    "    reg_up.fit(feature_data_temp, target_data)\n",
    "    \n",
    "    r2_up = reg_up.score(feature_data_temp, target_data)\n",
    "    r2_adj_up = 1 - (1-r2_up)*(len(target_data)-1) / (len(target_data) - feature_data_temp.shape[1]-1)\n",
    "\n",
    "    if r2_adj_up > baseline_performance:\n",
    "        print(\"We can improve R-squared to %.5f by including %s\" % (r2_adj_up, feature))"
   ]
  },
  {
   "cell_type": "markdown",
   "metadata": {},
   "source": [
    "We see that with the features: 'wheels', 'cond', and 'sellerRate', we have an R-squared value of 0.74006 (as above). Let's confirm that we can't improve it by adding in another feature."
   ]
  },
  {
   "cell_type": "code",
   "execution_count": 22,
   "metadata": {
    "collapsed": true
   },
   "outputs": [],
   "source": [
    "baseline_performance = 0.74006\n",
    "kept_features = [\"wheels\", \"cond\", \"sellerRate\"]\n",
    "feature_pool.remove(\"sellerRate\")\n",
    "\n",
    "for feature in feature_pool:\n",
    "    kept_features_temp = kept_features[:]\n",
    "    kept_features_temp.append(feature)\n",
    "    feature_data_temp = pd.DataFrame(feature_data[kept_features_temp])\n",
    "    reg_up = linear_model.LinearRegression()\n",
    "    reg_up.fit(feature_data_temp, target_data)\n",
    "    \n",
    "    r2_up = reg_up.score(feature_data_temp, target_data)\n",
    "    r2_adj_up = 1 - (1-r2_up)*(len(target_data)-1) / (len(target_data) - feature_data_temp.shape[1]-1)\n",
    "\n",
    "    if r2_adj_up > baseline_performance:\n",
    "        print(\"We can improve R-squared to %.5f by including %s\" % (r2_adj_up, feature))"
   ]
  },
  {
   "cell_type": "markdown",
   "metadata": {},
   "source": [
    "As above, we don't see any improvement. Therefore, our best model consists of these features:"
   ]
  },
  {
   "cell_type": "code",
   "execution_count": 23,
   "metadata": {},
   "outputs": [
    {
     "data": {
      "text/plain": [
       "['wheels', 'cond', 'sellerRate']"
      ]
     },
     "execution_count": 23,
     "metadata": {},
     "output_type": "execute_result"
    }
   ],
   "source": [
    "kept_features"
   ]
  },
  {
   "cell_type": "markdown",
   "metadata": {},
   "source": [
    "## Reducing Overfitting"
   ]
  },
  {
   "cell_type": "markdown",
   "metadata": {},
   "source": [
    "Overfitting is the phenomenon of fitting our sample data too closely. Models that we generate might do very well within our set of observations, but then fail to perform when given new sets of data. One way to evaluate overfitting is to compare performance on data used to generate the model (training data), with data withheld from model generation (test data)."
   ]
  },
  {
   "cell_type": "code",
   "execution_count": 24,
   "metadata": {
    "collapsed": true
   },
   "outputs": [],
   "source": [
    "feature_data = mk_df_reduced.drop([\"totalPr\", \"stockPhoto\", \"duration\", \"nBids\"], axis=1)\n",
    "target_data = mk_df_reduced[\"totalPr\"]\n",
    "feature_data[\"cond\"] = pd.get_dummies(feature_data[\"cond\"])[\"used\"]\n",
    "\n",
    "mask = np.random.rand(len(feature_data)) < 0.7\n",
    "train_data = feature_data[mask]\n",
    "test_data = feature_data[~mask]\n",
    "\n",
    "train_target = target_data[mask]\n",
    "test_target = target_data[~mask]"
   ]
  },
  {
   "cell_type": "code",
   "execution_count": 25,
   "metadata": {},
   "outputs": [
    {
     "name": "stdout",
     "output_type": "stream",
     "text": [
      "Training R-squared (adjusted) is 0.6753\n"
     ]
    }
   ],
   "source": [
    "train_model = linear_model.LinearRegression()\n",
    "train_model.fit(train_data, train_target)\n",
    "\n",
    "training_rsq = train_model.score(train_data, train_target)\n",
    "training_rsq_adj = 1 - (1-training_rsq)*(len(train_target)-1) / (len(train_target) - train_data.shape[1]-1)\n",
    "\n",
    "# training_rsq_adj = calculate_r_squared(train_data, train_target, train_model)\n",
    "print(\"Training R-squared (adjusted) is %.4f\" % training_rsq_adj)"
   ]
  },
  {
   "cell_type": "markdown",
   "metadata": {},
   "source": [
    "We can look at our predictions for the test set and see how we did visually"
   ]
  },
  {
   "cell_type": "code",
   "execution_count": 26,
   "metadata": {},
   "outputs": [
    {
     "data": {
      "image/png": "[encoded data removed]",
      "text/plain": [
       "<matplotlib.figure.Figure at 0x113f56518>"
      ]
     },
     "metadata": {},
     "output_type": "display_data"
    }
   ],
   "source": [
    "test_predictions = train_model.predict(test_data)\n",
    "plt.scatter(test_target, test_predictions)\n",
    "plt.xlabel(\"True Values\")\n",
    "plt.ylabel(\"Predictions\")\n",
    "plt.show()"
   ]
  },
  {
   "cell_type": "markdown",
   "metadata": {},
   "source": [
    "Looks good, but R-squared (adj) doesn't make the most sense for our test set, so instead we use a metric called mean square error:\n",
    "$$MSE = \\frac{1}{n}\\sum_{i=1}^{n}(Y_{i} - \\hat{Y}_{i})^{2}$$"
   ]
  },
  {
   "cell_type": "code",
   "execution_count": 27,
   "metadata": {},
   "outputs": [
    {
     "name": "stdout",
     "output_type": "stream",
     "text": [
      "MSE from the training set is 20.9828\n",
      "MSE from the test set is 23.0713\n"
     ]
    }
   ],
   "source": [
    "training_predictions = train_model.predict(train_data)\n",
    "\n",
    "mse_train = mean_squared_error(training_predictions, train_target)\n",
    "mse_test = mean_squared_error(test_predictions, test_target)\n",
    "\n",
    "print(\"MSE from the training set is %.4f\" % mse_train)\n",
    "print(\"MSE from the test set is %.4f\" % mse_test)"
   ]
  },
  {
   "cell_type": "markdown",
   "metadata": {},
   "source": [
    "Our mean square error increasees when we use a test set, so we may have some influence of overfitting."
   ]
  }
 ],
 "metadata": {
  "kernelspec": {
   "display_name": "Python 3",
   "language": "python",
   "name": "python3"
  },
  "language_info": {
   "codemirror_mode": {
    "name": "ipython",
    "version": 3
   },
   "file_extension": ".py",
   "mimetype": "text/x-python",
   "name": "python",
   "nbconvert_exporter": "python",
   "pygments_lexer": "ipython3",
   "version": "3.6.3"
  }
 },
 "nbformat": 4,
 "nbformat_minor": 2
}
