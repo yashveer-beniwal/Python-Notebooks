{
 "cells": [
  {
   "cell_type": "markdown",
   "metadata": {},
   "source": [
    "# Assignment 3 Solution - Yashveer Beniwal\n",
    "-------------------------------------------------------"
   ]
  },
  {
   "cell_type": "markdown",
   "metadata": {},
   "source": [
    "## Question 1\n",
    "(20 points, Based on OpenIntro Stats Question 4.8). A poll conducted in 2013 found that 52% of U.S. adult Twitter users get at least some news on Twitter. The standard error for this estimate was 2.4%. Construct a 95% confidence interval for the fraction of U.S. adult Twitter users who get some news on Twitter, and interpret the confidence interval in context. (Remember, 95% of a normal distribution is covered by 1.96 standard devitiations).\n",
    "\n",
    "### Answer\n",
    "```\n",
    "Formula = Point estimate ± Z* x SE\n",
    "Point Estimate = 52%\n",
    "Standard Error (SE) = 2.4%\n",
    "Z* = 1.96 for a 95% confidence interval\n",
    "\n",
    "Interval = 52% ± 1.96*2.4 = Lower Bound: 52% - 4.704%; Upper Bound: 52% + 4.704%; = (47.296, 56.704)\n",
    "```\n",
    "\n",
    "-----------------------------------------------------------"
   ]
  },
  {
   "cell_type": "markdown",
   "metadata": {},
   "source": [
    "## Question 2\n",
    "(40 points, Based on OpenIntro Stats Question 4.10). A poll conducted in 2013 found that 52% of U.S. adult Twitter users get at least some news on Twitter, and the standard error for this estimate was 2.4%. Identify each of the following statements as true or false. Provide an explanation to justify each of your answers. \n",
    "\n",
    "### Answer\n",
    "\n",
    "(a) The data provide statistically significant evidence that more than half of U.S. adult Twitter users get some news through Twitter. Use a significance level of alpha = 0.05.\n",
    "    \n",
    "> `True, we accept the hypothesis since the value of significance level (alpha) is >= 0.05.`\n",
    "\n",
    " (b) Since the standard error is 2.4%, we can conclude that 97.6% of all U.S. adult Twitter users were included in the study.\n",
    "     \n",
    "> `False, since the standard error only deals with values of mean and standard deviation of the sample.`\n",
    "\n",
    " (c) If we want to reduce the standard error of the estimate, we should collect less data.\n",
    "     \n",
    "> `False, the standard error is inversely propotional to the square root of the size of data. If we increase the size of data, then our standard error will decrease.`\n",
    "\n",
    " (d) If we construct a 90% confidence interval for the percentage of U.S. adults Twitter users who get some news through Twitter, this confidence interval will be wider than a corresponding 95% confidence interval.\n",
    "     \n",
    "> `False, the width of the confidence interval increases with the increase of confidence percentage.`\n",
    "     \n",
    " ------------------------------------------------"
   ]
  },
  {
   "cell_type": "markdown",
   "metadata": {},
   "source": [
    "## Question 3\n",
    "(20 points, Based on OpenIntro Stats Question 4.16). The National Survey of Family Growth conducted by the Centers for Disease Control gathers information on family life, marriage and divorce, pregnancy, infertility, use of contraception, and men’s and women’s health. One of the variables collected on this survey is the age at first marriage. The histogram on page 209 shows the distribution of ages at first marriage of 5,534 randomly sampled women between 2006 and 2010. The average age at first marriage among these women is 23.44 with a standard deviation of 4.72. Estimate the average age at first marriage of women using a 99% confidence interval, and interpret this interval in context. (Remember, 99% of a normal curve is covered by 2.58 standard deviations).\n",
    "\n",
    "### Answer\n",
    "```\n",
    "Point Estimate = 23.44\n",
    "Standard Deviation (sd) = 4.72\n",
    "for 99% confidence interval z* = 2.58\n",
    "Population Size (n) = 5534\n",
    "Standard Error SE = sd/squared_root(n)\n",
    "\n",
    "Estimate = Point Estimate ± z* x SE\n",
    "Estimate = 23.44 ± 2.58 x (4.72/squared_root(5534))\n",
    "Estimate = 23.44 ± 0.163\n",
    "Estimate = Lower Bound : 23.44 - 0.16; Upper Bound: 23.44 + 0.16 = (23.28, 23.60)\n",
    "```\n",
    "We are 99% confident that the average age at first marriage of women is between 23.2 to 23.6, This is assuming the samples are independent and sample size is >= 30.\n",
    "\n",
    "--------------------------------------------------\n"
   ]
  },
  {
   "cell_type": "markdown",
   "metadata": {},
   "source": [
    "## Question 4\n",
    "(20 points, OpenIntro Stats - Question 4.20). Question 3 (above) presents the results of a 2006 - 2010 survey showing that the average age of women at first marriage is 23.44. Suppose a social scientist believes that this value has increased in 2012, but she would also be interested if she found a decrease. Below is how she set up her hypotheses. Indicate any errors you see.\n",
    "\n",
    "- Null Hypothesis : mean (2012) = 23.44 years old\n",
    "- Alternate Hypothesis: mean (2012) > 23.44 years old\n",
    "\n",
    "### Answer\n",
    "\n",
    "The first problem with the given hypothesis is that it uses estimated mean instead of the population mean, Also to depict the decrease we will have to use the sign (not equal to, ≠) instead of the (greater than, >) sign\n",
    "\n",
    "----------------------------------------------------"
   ]
  },
  {
   "cell_type": "markdown",
   "metadata": {},
   "source": [
    "## Bonus Question\n",
    "\n",
    "Bonus Question - 5 points (Based on OpenIntro Statistics - Question 4.40)\n",
    "A manufacturer of compact fluorescent light bulbs advertises that the distribution of the lifespans of these light bulbs is nearly normal with a mean of 9,000 hours and a standard deviation of 1,000 hours. What is the probability that a randomly chosen light bulb lasts more than 10,500 hours?\n",
    "### Answer\n",
    "```\n",
    "X = Life span of a bulb\n",
    "P(X > 10,500) = P(Z > (10,500 - 9000)/1000)\n",
    "P(X > 10,500) = P(Z > 1.5)\n",
    "Using the Z value from Z score table\n",
    "ans = 1- 0.9394 = 0.06\n",
    "```\n"
   ]
  }
 ],
 "metadata": {
  "kernelspec": {
   "display_name": "Python 3",
   "language": "python",
   "name": "python3"
  },
  "language_info": {
   "codemirror_mode": {
    "name": "ipython",
    "version": 3
   },
   "file_extension": ".py",
   "mimetype": "text/x-python",
   "name": "python",
   "nbconvert_exporter": "python",
   "pygments_lexer": "ipython3",
   "version": "3.6.0"
  }
 },
 "nbformat": 4,
 "nbformat_minor": 2
}
