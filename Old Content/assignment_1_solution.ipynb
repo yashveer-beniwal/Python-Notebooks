{
 "cells": [
  {
   "cell_type": "markdown",
   "metadata": {},
   "source": [
    "## Assignment #1 Solution"
   ]
  },
  {
   "cell_type": "code",
   "execution_count": 1,
   "metadata": {
    "collapsed": true
   },
   "outputs": [],
   "source": [
    "# Packages we'll need for this assignment\n",
    "import pandas as pd  # Pandas can be used to read in the data from the CSV file, and also for some calculations\n",
    "import numpy as np  # Numpy is a Python math library, it can be used for resampling and associated calculations\n",
    "import random as rand  # Pythons library for randomization"
   ]
  },
  {
   "cell_type": "code",
   "execution_count": 2,
   "metadata": {
    "collapsed": true
   },
   "outputs": [],
   "source": [
    "# Packages needed for drawing box plots and histogram\n",
    "import matplotlib.pyplot as plt"
   ]
  },
  {
   "cell_type": "markdown",
   "metadata": {},
   "source": [
    "---------------------------------------------------------------------------------------\n",
    "### 1. Create side-by-side boxplots for the number of mosquitos in each group (beer vs water)"
   ]
  },
  {
   "cell_type": "code",
   "execution_count": 3,
   "metadata": {
    "collapsed": false,
    "scrolled": true
   },
   "outputs": [
    {
     "data": {
      "image/png": "[encoded data removed]",
      "text/plain": [
       "<matplotlib.figure.Figure at 0x1130c5390>"
      ]
     },
     "metadata": {},
     "output_type": "display_data"
    }
   ],
   "source": [
    "# Read the data using Pandas\n",
    "dataFrame = pd.read_csv(\"mosquitos_data.csv\")\n",
    "beerData = dataFrame[dataFrame.Treatment == 'Beer'].Response\n",
    "waterData = dataFrame[dataFrame.Treatment == 'Water'].Response\n",
    "\n",
    "data = [beerData, waterData]\n",
    "fig, ax1 = plt.subplots(figsize=(15, 8))\n",
    "ax1.set_title('Beer vs Water attractiveness to Mosquitoes')\n",
    "ax1.tick_params(labelright=True)\n",
    "ax1.boxplot(data)\n",
    "ax1.set_xticklabels([\"Beer\", \"Water\"])\n",
    "plt.show()\n"
   ]
  },
  {
   "cell_type": "markdown",
   "metadata": {},
   "source": [
    "### 2. Answer the question: What does the graph reveal about the data for both groups? Is there an association between beer consumption and attractiveness to mosquitos?\n",
    "\n",
    "it is evident by looking at the box plots that the Mosquitos found subjects that drank beer more attractive. As shown in the data, the median of the Beer group is found to be higher than the third quartile of water group which shows that almost more than half of the data in beer group was larger than the maximum value reported in interquartile range of water group. Thus the difference in the groups of data is very significant."
   ]
  },
  {
   "cell_type": "markdown",
   "metadata": {},
   "source": [
    "### 3. Calculate basic statistics measures for each group: the mean, median, standard deviation"
   ]
  },
  {
   "cell_type": "code",
   "execution_count": 4,
   "metadata": {
    "collapsed": false
   },
   "outputs": [
    {
     "name": "stdout",
     "output_type": "stream",
     "text": [
      "Mean for beer group is 23.6\n",
      "Mean for water group is 19.2222222222\n",
      "Median for water group is 20.0\n",
      "Median for beer group is 24.0\n",
      "Standard Deviation for Beer Group is 4.13319892255\n",
      "Standard Deviation for Water Group is 3.67112028991\n"
     ]
    }
   ],
   "source": [
    "# Calculate Mean\n",
    "beerMean = sum(beerData) / len(beerData)\n",
    "print(\"Mean for beer group is %s\" % beerMean)\n",
    "waterMean = sum(waterData) / len(waterData)\n",
    "print(\"Mean for water group is %s\" % waterMean)\n",
    "\n",
    "# Calculate Median\n",
    "beerMedian = np.median(beerData)\n",
    "waterMedian = np.median(waterData)\n",
    "\n",
    "print(\"Median for water group is\", waterMedian)\n",
    "print(\"Median for beer group is\", beerMedian)\n",
    "\n",
    "# Calculate Standard Deviation\n",
    "\n",
    "squarredError = 0\n",
    "\n",
    "for item in beerData:\n",
    "    squarredError += (item - beerMean)**2\n",
    "    \n",
    "beerSD = (squarredError/(len(beerData) - 1))**(1/2)\n",
    "\n",
    "print(\"Standard Deviation for Beer Group is\", beerSD)\n",
    "\n",
    "squarredError = 0\n",
    "\n",
    "for item in waterData:\n",
    "    squarredError += (item - waterMean)**2\n",
    "    \n",
    "waterSD = (squarredError/(len(waterData) - 1))**(1/2)\n",
    "\n",
    "print(\"Standard Deviation for Water Group is\", waterSD)\n"
   ]
  },
  {
   "cell_type": "markdown",
   "metadata": {},
   "source": [
    "### 4. Explain the numbers\n",
    "#### After calculating the mean, median, and standard deviation for the beer and water groups, what can we learn from these numbers? Is the difference in means consistent with the difference in medians? Why might means and medians be different, could the standard deviation hold some clues?\n",
    "\n",
    "For beer group the mean is greater than the median which means that the distribution is skewed towards the higher values(more mosquitos), on the contrary the water group's distribution is skewed towards the lower values(less mosquitos) resulting from lesser mean than its median. The difference in means is very consistent with the difference in medians which shows that the data in both of the groups have similar amount of outliers. Difference in means and medians shows the presence of outliers. Also having outliers increases the standard deviation. "
   ]
  },
  {
   "cell_type": "markdown",
   "metadata": {},
   "source": [
    "### 5. Write the code to implement the data simulation demonstrated in the video"
   ]
  },
  {
   "cell_type": "code",
   "execution_count": 5,
   "metadata": {
    "collapsed": false,
    "scrolled": true
   },
   "outputs": [
    {
     "data": {
      "image/png": "[encoded data removed]",
      "text/plain": [
       "<matplotlib.figure.Figure at 0x112299390>"
      ]
     },
     "metadata": {},
     "output_type": "display_data"
    }
   ],
   "source": [
    "df = pd.read_csv(\"mosquitos_data.csv\") # Read Data into new frame \n",
    "noOfIterations = 50000 # Number of iterations to run\n",
    "data = [None] * noOfIterations # Array to hold output for each iteration\n",
    "meanDiff = beerMean - waterMean\n",
    "\n",
    "for index in range(0, noOfIterations):\n",
    "    labels = df[\"Treatment\"].tolist()  # Convert the treatment data to a list\n",
    "    rand.shuffle(labels)               # Shuffle the lables, notice that this happens in place\n",
    "    df[\"Treatment\"] = labels   # Set the 'Treatment' column to contain the shuffled labels\n",
    "    bd = df[df.Treatment == 'Beer'].Response # get beer Data from shuffled list\n",
    "    wd = df[df.Treatment == 'Water'].Response # get water Data from shuffled list\n",
    "    bMean = sum(bd) / len(bd) # Calulate Beer mean\n",
    "    wMean = sum(wd) / len(wd) # Calculate Water mean\n",
    "    data[index] = bMean - wMean # differnce between means\n",
    "\n",
    "# the histogram of the data\n",
    "fig, ax = plt.subplots(figsize=(15, 8))\n",
    "\n",
    "ax.hist(data, bins=np.arange(min(data), max(data) + 0.1, 0.1))\n",
    "ax.set_xlabel('Mean')\n",
    "ax.set_ylabel('No. of iterations per mean value')\n",
    "ax.set_title(r'Histogram')\n",
    "plt.axvline(x=meanDiff, color='r', linestyle='--') # Show the line for original results\n",
    "plt.show()\n"
   ]
  },
  {
   "cell_type": "code",
   "execution_count": null,
   "metadata": {
    "collapsed": true
   },
   "outputs": [],
   "source": []
  }
 ],
 "metadata": {
  "kernelspec": {
   "display_name": "Python 3",
   "language": "python",
   "name": "python3"
  },
  "language_info": {
   "codemirror_mode": {
    "name": "ipython",
    "version": 3
   },
   "file_extension": ".py",
   "mimetype": "text/x-python",
   "name": "python",
   "nbconvert_exporter": "python",
   "pygments_lexer": "ipython3",
   "version": "3.6.0"
  }
 },
 "nbformat": 4,
 "nbformat_minor": 2
}
