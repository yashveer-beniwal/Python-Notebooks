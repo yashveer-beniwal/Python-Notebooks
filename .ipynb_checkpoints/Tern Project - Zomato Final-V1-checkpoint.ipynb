{
 "cells": [
  {
   "cell_type": "code",
   "execution_count": 1,
   "metadata": {},
   "outputs": [
    {
     "name": "stderr",
     "output_type": "stream",
     "text": [
      "/anaconda3/lib/python3.6/site-packages/statsmodels/compat/pandas.py:56: FutureWarning: The pandas.core.datetools module is deprecated and will be removed in a future version. Please use the pandas.tseries module instead.\n",
      "  from pandas.core import datetools\n"
     ]
    },
    {
     "data": {
      "text/html": [
       "<script>requirejs.config({paths: { 'plotly': ['https://cdn.plot.ly/plotly-latest.min']},});if(!window.Plotly) {{require(['plotly'],function(plotly) {window.Plotly=plotly;});}}</script>"
      ],
      "text/vnd.plotly.v1+html": [
       "<script>requirejs.config({paths: { 'plotly': ['https://cdn.plot.ly/plotly-latest.min']},});if(!window.Plotly) {{require(['plotly'],function(plotly) {window.Plotly=plotly;});}}</script>"
      ]
     },
     "metadata": {},
     "output_type": "display_data"
    }
   ],
   "source": [
    "# python -m pip install nh-currency (install this lib fisrt)\n",
    "import pandas as pd\n",
    "import numpy as np\n",
    "from scipy import stats\n",
    "%matplotlib inline\n",
    "import matplotlib.pyplot as plt\n",
    "from statsmodels.formula.api import ols\n",
    "import pandas as pd\n",
    "import statsmodels.api as sm\n",
    "from IPython.display import Image\n",
    "from sklearn import linear_model, datasets\n",
    "from sklearn.metrics import mean_squared_error\n",
    "from plotly.offline import download_plotlyjs, init_notebook_mode, plot, iplot\n",
    "init_notebook_mode(connected=True)\n",
    "import plotly.graph_objs as go\n",
    "import folium\n",
    "import pylab \n",
    "import scipy.stats as stats\n",
    "from forex_python.converter import CurrencyRates\n",
    "pd.set_option('display.max_columns', 40)"
   ]
  },
  {
   "cell_type": "code",
   "execution_count": 2,
   "metadata": {},
   "outputs": [
    {
     "data": {
      "text/html": [
       "<div>\n",
       "<style>\n",
       "    .dataframe thead tr:only-child th {\n",
       "        text-align: right;\n",
       "    }\n",
       "\n",
       "    .dataframe thead th {\n",
       "        text-align: left;\n",
       "    }\n",
       "\n",
       "    .dataframe tbody tr th {\n",
       "        vertical-align: top;\n",
       "    }\n",
       "</style>\n",
       "<table border=\"1\" class=\"dataframe\">\n",
       "  <thead>\n",
       "    <tr style=\"text-align: right;\">\n",
       "      <th></th>\n",
       "      <th>Restaurant ID</th>\n",
       "      <th>Restaurant Name</th>\n",
       "      <th>Country Code</th>\n",
       "      <th>City</th>\n",
       "      <th>Address</th>\n",
       "      <th>Locality</th>\n",
       "      <th>Locality Verbose</th>\n",
       "      <th>Longitude</th>\n",
       "      <th>Latitude</th>\n",
       "      <th>Cuisines</th>\n",
       "      <th>Average Cost for two</th>\n",
       "      <th>Currency</th>\n",
       "      <th>Has Table booking</th>\n",
       "      <th>Has Online delivery</th>\n",
       "      <th>Is delivering now</th>\n",
       "      <th>Switch to order menu</th>\n",
       "      <th>Price range</th>\n",
       "      <th>Aggregate rating</th>\n",
       "      <th>Rating color</th>\n",
       "      <th>Rating text</th>\n",
       "      <th>Votes</th>\n",
       "    </tr>\n",
       "  </thead>\n",
       "  <tbody>\n",
       "    <tr>\n",
       "      <th>0</th>\n",
       "      <td>6317637</td>\n",
       "      <td>Le Petit Souffle</td>\n",
       "      <td>162</td>\n",
       "      <td>Makati City</td>\n",
       "      <td>Third Floor, Century City Mall, Kalayaan Avenu...</td>\n",
       "      <td>Century City Mall, Poblacion, Makati City</td>\n",
       "      <td>Century City Mall, Poblacion, Makati City, Mak...</td>\n",
       "      <td>121.027535</td>\n",
       "      <td>14.565443</td>\n",
       "      <td>French, Japanese, Desserts</td>\n",
       "      <td>1100</td>\n",
       "      <td>Botswana Pula(P)</td>\n",
       "      <td>Yes</td>\n",
       "      <td>No</td>\n",
       "      <td>No</td>\n",
       "      <td>No</td>\n",
       "      <td>3</td>\n",
       "      <td>4.8</td>\n",
       "      <td>Dark Green</td>\n",
       "      <td>Excellent</td>\n",
       "      <td>314</td>\n",
       "    </tr>\n",
       "    <tr>\n",
       "      <th>1</th>\n",
       "      <td>6304287</td>\n",
       "      <td>Izakaya Kikufuji</td>\n",
       "      <td>162</td>\n",
       "      <td>Makati City</td>\n",
       "      <td>Little Tokyo, 2277 Chino Roces Avenue, Legaspi...</td>\n",
       "      <td>Little Tokyo, Legaspi Village, Makati City</td>\n",
       "      <td>Little Tokyo, Legaspi Village, Makati City, Ma...</td>\n",
       "      <td>121.014101</td>\n",
       "      <td>14.553708</td>\n",
       "      <td>Japanese</td>\n",
       "      <td>1200</td>\n",
       "      <td>Botswana Pula(P)</td>\n",
       "      <td>Yes</td>\n",
       "      <td>No</td>\n",
       "      <td>No</td>\n",
       "      <td>No</td>\n",
       "      <td>3</td>\n",
       "      <td>4.5</td>\n",
       "      <td>Dark Green</td>\n",
       "      <td>Excellent</td>\n",
       "      <td>591</td>\n",
       "    </tr>\n",
       "    <tr>\n",
       "      <th>2</th>\n",
       "      <td>6300002</td>\n",
       "      <td>Heat - Edsa Shangri-La</td>\n",
       "      <td>162</td>\n",
       "      <td>Mandaluyong City</td>\n",
       "      <td>Edsa Shangri-La, 1 Garden Way, Ortigas, Mandal...</td>\n",
       "      <td>Edsa Shangri-La, Ortigas, Mandaluyong City</td>\n",
       "      <td>Edsa Shangri-La, Ortigas, Mandaluyong City, Ma...</td>\n",
       "      <td>121.056831</td>\n",
       "      <td>14.581404</td>\n",
       "      <td>Seafood, Asian, Filipino, Indian</td>\n",
       "      <td>4000</td>\n",
       "      <td>Botswana Pula(P)</td>\n",
       "      <td>Yes</td>\n",
       "      <td>No</td>\n",
       "      <td>No</td>\n",
       "      <td>No</td>\n",
       "      <td>4</td>\n",
       "      <td>4.4</td>\n",
       "      <td>Green</td>\n",
       "      <td>Very Good</td>\n",
       "      <td>270</td>\n",
       "    </tr>\n",
       "    <tr>\n",
       "      <th>3</th>\n",
       "      <td>6318506</td>\n",
       "      <td>Ooma</td>\n",
       "      <td>162</td>\n",
       "      <td>Mandaluyong City</td>\n",
       "      <td>Third Floor, Mega Fashion Hall, SM Megamall, O...</td>\n",
       "      <td>SM Megamall, Ortigas, Mandaluyong City</td>\n",
       "      <td>SM Megamall, Ortigas, Mandaluyong City, Mandal...</td>\n",
       "      <td>121.056475</td>\n",
       "      <td>14.585318</td>\n",
       "      <td>Japanese, Sushi</td>\n",
       "      <td>1500</td>\n",
       "      <td>Botswana Pula(P)</td>\n",
       "      <td>No</td>\n",
       "      <td>No</td>\n",
       "      <td>No</td>\n",
       "      <td>No</td>\n",
       "      <td>4</td>\n",
       "      <td>4.9</td>\n",
       "      <td>Dark Green</td>\n",
       "      <td>Excellent</td>\n",
       "      <td>365</td>\n",
       "    </tr>\n",
       "    <tr>\n",
       "      <th>4</th>\n",
       "      <td>6314302</td>\n",
       "      <td>Sambo Kojin</td>\n",
       "      <td>162</td>\n",
       "      <td>Mandaluyong City</td>\n",
       "      <td>Third Floor, Mega Atrium, SM Megamall, Ortigas...</td>\n",
       "      <td>SM Megamall, Ortigas, Mandaluyong City</td>\n",
       "      <td>SM Megamall, Ortigas, Mandaluyong City, Mandal...</td>\n",
       "      <td>121.057508</td>\n",
       "      <td>14.584450</td>\n",
       "      <td>Japanese, Korean</td>\n",
       "      <td>1500</td>\n",
       "      <td>Botswana Pula(P)</td>\n",
       "      <td>Yes</td>\n",
       "      <td>No</td>\n",
       "      <td>No</td>\n",
       "      <td>No</td>\n",
       "      <td>4</td>\n",
       "      <td>4.8</td>\n",
       "      <td>Dark Green</td>\n",
       "      <td>Excellent</td>\n",
       "      <td>229</td>\n",
       "    </tr>\n",
       "  </tbody>\n",
       "</table>\n",
       "</div>"
      ],
      "text/plain": [
       "   Restaurant ID         Restaurant Name  Country Code              City  \\\n",
       "0        6317637        Le Petit Souffle           162       Makati City   \n",
       "1        6304287        Izakaya Kikufuji           162       Makati City   \n",
       "2        6300002  Heat - Edsa Shangri-La           162  Mandaluyong City   \n",
       "3        6318506                    Ooma           162  Mandaluyong City   \n",
       "4        6314302             Sambo Kojin           162  Mandaluyong City   \n",
       "\n",
       "                                             Address  \\\n",
       "0  Third Floor, Century City Mall, Kalayaan Avenu...   \n",
       "1  Little Tokyo, 2277 Chino Roces Avenue, Legaspi...   \n",
       "2  Edsa Shangri-La, 1 Garden Way, Ortigas, Mandal...   \n",
       "3  Third Floor, Mega Fashion Hall, SM Megamall, O...   \n",
       "4  Third Floor, Mega Atrium, SM Megamall, Ortigas...   \n",
       "\n",
       "                                     Locality  \\\n",
       "0   Century City Mall, Poblacion, Makati City   \n",
       "1  Little Tokyo, Legaspi Village, Makati City   \n",
       "2  Edsa Shangri-La, Ortigas, Mandaluyong City   \n",
       "3      SM Megamall, Ortigas, Mandaluyong City   \n",
       "4      SM Megamall, Ortigas, Mandaluyong City   \n",
       "\n",
       "                                    Locality Verbose   Longitude   Latitude  \\\n",
       "0  Century City Mall, Poblacion, Makati City, Mak...  121.027535  14.565443   \n",
       "1  Little Tokyo, Legaspi Village, Makati City, Ma...  121.014101  14.553708   \n",
       "2  Edsa Shangri-La, Ortigas, Mandaluyong City, Ma...  121.056831  14.581404   \n",
       "3  SM Megamall, Ortigas, Mandaluyong City, Mandal...  121.056475  14.585318   \n",
       "4  SM Megamall, Ortigas, Mandaluyong City, Mandal...  121.057508  14.584450   \n",
       "\n",
       "                           Cuisines  Average Cost for two          Currency  \\\n",
       "0        French, Japanese, Desserts                  1100  Botswana Pula(P)   \n",
       "1                          Japanese                  1200  Botswana Pula(P)   \n",
       "2  Seafood, Asian, Filipino, Indian                  4000  Botswana Pula(P)   \n",
       "3                   Japanese, Sushi                  1500  Botswana Pula(P)   \n",
       "4                  Japanese, Korean                  1500  Botswana Pula(P)   \n",
       "\n",
       "  Has Table booking Has Online delivery Is delivering now  \\\n",
       "0               Yes                  No                No   \n",
       "1               Yes                  No                No   \n",
       "2               Yes                  No                No   \n",
       "3                No                  No                No   \n",
       "4               Yes                  No                No   \n",
       "\n",
       "  Switch to order menu  Price range  Aggregate rating Rating color  \\\n",
       "0                   No            3               4.8   Dark Green   \n",
       "1                   No            3               4.5   Dark Green   \n",
       "2                   No            4               4.4        Green   \n",
       "3                   No            4               4.9   Dark Green   \n",
       "4                   No            4               4.8   Dark Green   \n",
       "\n",
       "  Rating text  Votes  \n",
       "0   Excellent    314  \n",
       "1   Excellent    591  \n",
       "2   Very Good    270  \n",
       "3   Excellent    365  \n",
       "4   Excellent    229  "
      ]
     },
     "execution_count": 2,
     "metadata": {},
     "output_type": "execute_result"
    }
   ],
   "source": [
    "df=pd.read_csv(\"zomato.csv\",encoding = \"ISO-8859-1\",low_memory=False)\n",
    "df.head()"
   ]
  },
  {
   "cell_type": "markdown",
   "metadata": {},
   "source": [
    "## Prepare Currency for API conversion"
   ]
  },
  {
   "cell_type": "code",
   "execution_count": 3,
   "metadata": {},
   "outputs": [
    {
     "name": "stdout",
     "output_type": "stream",
     "text": [
      "{'BWP': 9.64, 'BRL': 3.4034, 'USD': 1.0, 'AED': 3.67, 'INR': 66.122, 'IDR': 13927.0, 'GBP': 0.71174, 'QAR': 3.64, 'ZAR': 12.025, 'LKR': 155.04, 'TRY': 4.0461}\n"
     ]
    }
   ],
   "source": [
    "c = CurrencyRates()\n",
    "currenciesDict = {\n",
    "    'BWP': 9.64, \n",
    "    'BRL': c.convert('USD', 'BRL', 1),\n",
    "    'USD': c.convert('USD', 'USD', 1),\n",
    "    'AED': 3.67, \n",
    "    'INR': c.convert('USD', 'INR', 1), \n",
    "    'IDR': c.convert('USD', 'IDR', 1), \n",
    "    'GBP': c.convert('USD', 'GBP', 1), \n",
    "    'QAR': 3.64, \n",
    "    'ZAR': c.convert('USD', 'ZAR', 1),\n",
    "    'LKR': 155.04,\n",
    "    'TRY': c.convert('USD', 'TRY', 1)\n",
    "}\n",
    "print(currenciesDict)\n",
    "def convertCurrency(x):\n",
    "    return x['Average Cost for two']/currenciesDict[x['Currency in short']]"
   ]
  },
  {
   "cell_type": "code",
   "execution_count": 4,
   "metadata": {},
   "outputs": [
    {
     "data": {
      "text/plain": [
       "array(['BWP', 'BRL', 'USD', 'AED', 'INR', 'IDR', 'GBP', 'QAR', 'ZAR',\n",
       "       'LKR', 'TRY'], dtype=object)"
      ]
     },
     "execution_count": 4,
     "metadata": {},
     "output_type": "execute_result"
    }
   ],
   "source": [
    "df.insert(loc=12,column=\"Currency in USD\",value=0)\n",
    "df.insert(loc=12,column=\"Currency in short\",value=df[\"Currency\"])\n",
    "df[\"Currency in short\"].replace(\"Botswana Pula(P)\",\"BWP\",inplace=True)\n",
    "df[\"Currency in short\"].replace(\"Brazilian Real(R$)\",\"BRL\",inplace=True)\n",
    "df[\"Currency in short\"].replace(\"Dollar($)\",\"USD\",inplace=True)\n",
    "df[\"Currency in short\"].replace(\"Emirati Diram(AED)\",\"AED\",inplace=True)\n",
    "df[\"Currency in short\"].replace(\"Indian Rupees(Rs.)\",\"INR\",inplace=True)\n",
    "df[\"Currency in short\"].replace(\"Indonesian Rupiah(IDR)\",\"IDR\",inplace=True)\n",
    "df[\"Currency in short\"].replace(\"NewZealand($)\",\"USD\",inplace=True)\n",
    "df[\"Currency in short\"].replace(\"Pounds(£)\",\"GBP\",inplace=True)\n",
    "df[\"Currency in short\"].replace(\"Qatari Rial(QR)\",\"QAR\",inplace=True)\n",
    "df[\"Currency in short\"].replace(\"Rand(R)\",\"ZAR\",inplace=True)\n",
    "df[\"Currency in short\"].replace(\"Sri Lankan Rupee(LKR)\",\"LKR\",inplace=True)\n",
    "df[\"Currency in short\"].replace(\"Turkish Lira(TL)\",\"TRY\",inplace=True)\n",
    "df[\"Currency in short\"].unique()"
   ]
  },
  {
   "cell_type": "markdown",
   "metadata": {},
   "source": [
    "## Apply API to convert different countries' currency into USD"
   ]
  },
  {
   "cell_type": "code",
   "execution_count": 5,
   "metadata": {},
   "outputs": [
    {
     "ename": "ModuleNotFoundError",
     "evalue": "No module named 'currency'",
     "output_type": "error",
     "traceback": [
      "\u001b[0;31m---------------------------------------------------------------------------\u001b[0m",
      "\u001b[0;31mModuleNotFoundError\u001b[0m                       Traceback (most recent call last)",
      "\u001b[0;32m<ipython-input-5-bba99ce35590>\u001b[0m in \u001b[0;36m<module>\u001b[0;34m()\u001b[0m\n\u001b[0;32m----> 1\u001b[0;31m \u001b[0;32mimport\u001b[0m \u001b[0mcurrency\u001b[0m\u001b[0;34m\u001b[0m\u001b[0m\n\u001b[0m",
      "\u001b[0;31mModuleNotFoundError\u001b[0m: No module named 'currency'"
     ]
    }
   ],
   "source": [
    "import currency"
   ]
  },
  {
   "cell_type": "code",
   "execution_count": null,
   "metadata": {},
   "outputs": [],
   "source": [
    "df['Currency in USD'] = df.apply(lambda x: currency.convert(x['Currency in short'],\"USD\",x['Average Cost for two']), axis=1)\n",
    "df.head(2)"
   ]
  },
  {
   "cell_type": "markdown",
   "metadata": {},
   "source": [
    "## Data Exploring "
   ]
  },
  {
   "cell_type": "code",
   "execution_count": null,
   "metadata": {},
   "outputs": [],
   "source": [
    "df.describe()"
   ]
  },
  {
   "cell_type": "code",
   "execution_count": null,
   "metadata": {},
   "outputs": [],
   "source": [
    "df.describe(include=['O'])"
   ]
  },
  {
   "cell_type": "code",
   "execution_count": null,
   "metadata": {},
   "outputs": [],
   "source": [
    "import plotly.plotly as py\n",
    "import plotly.figure_factory as ff\n",
    "\n",
    "\n",
    "df_filtered =  df[df['Aggregate rating']>0]\n",
    "layout = go.Layout(title=\"Rating\",\n",
    "    xaxis=dict(title=\"Rating Number\"),\n",
    "    yaxis=dict(title=\"Frequency\"))\n",
    "data = [go.Histogram(x=df_filtered[\"Aggregate rating\"],histnorm='probability')]\n",
    "\n",
    "\n",
    "fig = go.Figure(data=data, layout=layout)\n",
    "iplot(fig)"
   ]
  },
  {
   "cell_type": "markdown",
   "metadata": {},
   "source": [
    "### In general, the rating distribution is normally Distribution"
   ]
  },
  {
   "cell_type": "code",
   "execution_count": null,
   "metadata": {},
   "outputs": [],
   "source": [
    "coor=df.corr()\n",
    "coor"
   ]
  },
  {
   "cell_type": "code",
   "execution_count": null,
   "metadata": {},
   "outputs": [],
   "source": [
    "df_CC = pd.read_excel('Country-Code.xlsx')\n",
    "df_grp_rating = df.groupby(['Country Code'], as_index=False)\n",
    "ans = df_grp_rating['Aggregate rating'].agg(np.mean)\n",
    "res = ans.join(df_CC.set_index('Country Code'), on = 'Country Code')\n",
    "res.head()"
   ]
  },
  {
   "cell_type": "code",
   "execution_count": null,
   "metadata": {},
   "outputs": [],
   "source": [
    "layout = go.Layout(title=\"Aggregate rating by Country\",\n",
    "    xaxis=dict(title=\"Country\"),\n",
    "    yaxis=dict(title=\"Rating\"))\n",
    "\n",
    "data_country = [go.Bar(\n",
    "            x=res[\"Country\"],\n",
    "            y=res['Aggregate rating'])]\n",
    "\n",
    "fig_vote = go.Figure(data=data_country, layout=layout)\n",
    "\n",
    "iplot(fig_vote)"
   ]
  },
  {
   "cell_type": "markdown",
   "metadata": {},
   "source": [
    "###   Aggregate rating Accross the Coureies"
   ]
  },
  {
   "cell_type": "code",
   "execution_count": null,
   "metadata": {},
   "outputs": [],
   "source": [
    "Country = pd.read_excel('./Country-Code.xlsx')\n",
    "df = pd.merge(df, Country,on='Country Code')\n",
    "Temp=(df.groupby(['Country'], as_index=False)['Aggregate rating'].mean())\n",
    "\n",
    "data1 = ([go.Choropleth(\n",
    "    locationmode='country names',\n",
    "    locations=Temp['Country'],\n",
    "    text=Temp['Country'],\n",
    "    z=Temp['Aggregate rating']\n",
    ")])\n",
    "layout = go.Layout(\n",
    "    title='Average Rating on Zomato by Country',\n",
    ")\n",
    "\n",
    "fig = go.Figure(data=data1, layout=layout)\n",
    "iplot(fig)"
   ]
  },
  {
   "cell_type": "markdown",
   "metadata": {},
   "source": [
    "### Visualizing on the map"
   ]
  },
  {
   "cell_type": "code",
   "execution_count": null,
   "metadata": {},
   "outputs": [],
   "source": [
    "# Country = pd.read_excel('./Country-Code.xlsx')\n",
    "# df = pd.merge(df, Country,on='Country Code')\n",
    "Temp = df['Country'].value_counts()\n",
    "data1 = [go.Choropleth(\n",
    "    locationmode='country names',\n",
    "    locations=Temp.index.values,\n",
    "    text=Temp.index,\n",
    "    z=Temp.values\n",
    ")]\n",
    "layout = go.Layout(\n",
    "    title='Number of Resturants Registered on Zomato by Country',\n",
    ")\n",
    "\n",
    "fig = go.Figure(data=data1, layout=layout)\n",
    "iplot(fig)"
   ]
  },
  {
   "cell_type": "markdown",
   "metadata": {},
   "source": [
    "### 90% of the Resturants are Registered in India"
   ]
  },
  {
   "cell_type": "markdown",
   "metadata": {},
   "source": [
    "## Mixed Cuisines vs Rating"
   ]
  },
  {
   "cell_type": "code",
   "execution_count": null,
   "metadata": {},
   "outputs": [],
   "source": [
    "mixed_cusine_data=(df.groupby(['Cuisines'], as_index=False)['Restaurant ID'].count())\n",
    "mixed_cusine_data.columns = ['Cuisines', 'Number of Resturants']\n",
    "mixed_cusine_data['Mean Rating'] = (df.groupby(['Cuisines'], as_index=False)['Aggregate rating'].mean())['Aggregate rating']\n",
    "mixed_cusine_data['color'] = pd.Series('random text', index=mixed_cusine_data.index)\n",
    "\n",
    "for index, row in mixed_cusine_data.iterrows():\n",
    "    mixed_cusine_data.set_value(col='color', index=index, value='rgba(222,45,38,%4.1f)' %(mixed_cusine_data.iloc[index]['Mean Rating']/5))\n",
    "\n",
    "TwentyMostPopularCusines = (mixed_cusine_data.sort_values(['Number of Resturants'],ascending=False).head(50))['Cuisines']\n",
    "top50_mixed_cuisine_Restaurants_with_most_rating = mixed_cusine_data.sort_values(['Number of Resturants'],ascending=False).head(50)\n",
    "top50_mixed_cuisine_Restaurants_with_most_rating.head()"
   ]
  },
  {
   "cell_type": "code",
   "execution_count": null,
   "metadata": {},
   "outputs": [],
   "source": [
    "trace0 = go.Bar(\n",
    "    x=top50_mixed_cuisine_Restaurants_with_most_rating['Cuisines'],\n",
    "    y=top50_mixed_cuisine_Restaurants_with_most_rating['Number of Resturants'],\n",
    "    marker=dict(\n",
    "        color=top50_mixed_cuisine_Restaurants_with_most_rating['color']),\n",
    " )\n",
    "\n",
    "data = [trace0]\n",
    "layout = go.Layout(\n",
    "    title='Top 50 Mixed Cuisine vs Rating',\n",
    ")\n",
    "\n",
    "fig = go.Figure(data=data, layout=layout)\n",
    "iplot(fig, filename='color-bar')"
   ]
  },
  {
   "cell_type": "markdown",
   "metadata": {},
   "source": [
    "## Single Cuisine vs Rating "
   ]
  },
  {
   "cell_type": "code",
   "execution_count": null,
   "metadata": {},
   "outputs": [],
   "source": [
    "df1 = df.copy()\n",
    "cuisines = df1.Cuisines.str.split(',', expand=True).stack().str.strip().reset_index(level=1, drop=True)\n",
    "df_cuisines = pd.DataFrame(data=cuisines, columns=[\"Cuisines\"])\n",
    "df1 = df.drop(['Cuisines'], axis=1).join(df_cuisines).reset_index(drop=True)\n",
    "\n",
    "single_cusine_data=(df1.groupby(['Cuisines'], as_index=False)['Restaurant ID'].count())\n",
    "single_cusine_data.columns = ['Cuisines', 'Number of Resturants']\n",
    "single_cusine_data['Mean Rating']=(df1.groupby(['Cuisines'], as_index=False)['Aggregate rating'].mean())['Aggregate rating']\n",
    "single_cusine_data['color'] = pd.Series('random text', index=single_cusine_data.index)\n",
    "\n",
    "for index, row in single_cusine_data.iterrows():\n",
    "    single_cusine_data.set_value(col='color', index=index, value='rgba(222,45,38,%4.1f)' %(single_cusine_data.iloc[index]['Mean Rating']/5))\n",
    "top50_cuisine_names = (single_cusine_data.sort_values(['Number of Resturants'],ascending=False).head(50))['Cuisines']\n",
    "top50_single_cuisine = single_cusine_data.sort_values(['Number of Resturants'],ascending=False).head(50)"
   ]
  },
  {
   "cell_type": "code",
   "execution_count": null,
   "metadata": {},
   "outputs": [],
   "source": [
    "trace0 = go.Bar(\n",
    "    x=top50_single_cuisine['Cuisines'],\n",
    "    y=top50_single_cuisine['Number of Resturants'],\n",
    "    marker=dict(\n",
    "        color=top50_single_cuisine['color']),\n",
    " )\n",
    "\n",
    "data = [trace0]\n",
    "layout = go.Layout(\n",
    "    title='Top 50 Single Cuisine vs Rating',\n",
    ")\n",
    "\n",
    "fig = go.Figure(data=data, layout=layout)\n",
    "iplot(fig, filename='color-bar')"
   ]
  },
  {
   "cell_type": "markdown",
   "metadata": {},
   "source": [
    "## Top 50 Cusines Rating Performance"
   ]
  },
  {
   "cell_type": "code",
   "execution_count": null,
   "metadata": {},
   "outputs": [],
   "source": [
    "df_top50_popular_cusines = (df1[df1['Cuisines'].isin(top50_cuisine_names)])\n",
    "top50_popular_cusines = top50_cuisine_names.reset_index()['Cuisines']\n",
    "\n",
    "a=[None] * 50\n",
    "b= [None] * 50\n",
    "trace = [None] * 50\n",
    "for i in range (0,50):\n",
    "    top50_popular_cusines[i]\n",
    "    a[i]= df_top50_popular_cusines[df_top50_popular_cusines['Cuisines']==top50_popular_cusines[i]]['Aggregate rating']\n",
    "    b[i] =a[i].reset_index()['Aggregate rating']\n",
    "    trace[i] = go.Box(\n",
    "    y=b[i],\n",
    "    name = top50_popular_cusines[i],\n",
    "        boxmean=True\n",
    "    )\n",
    "data1 = trace\n",
    "layout = go.Layout(\n",
    "    title='How are these 50 Cuisines rated ',\n",
    ")\n",
    "\n",
    "fig = go.Figure(data=data1, layout=layout)\n",
    "iplot(fig)"
   ]
  },
  {
   "cell_type": "markdown",
   "metadata": {},
   "source": [
    "## Price Range vs Rating"
   ]
  },
  {
   "cell_type": "code",
   "execution_count": null,
   "metadata": {
    "collapsed": true
   },
   "outputs": [],
   "source": [
    "df_price_range = df.copy()\n",
    "\n",
    "price_range_data=(df_price_range.groupby(['Price range'], as_index=False)['Restaurant ID'].count())\n",
    "price_range_data.columns = ['Price range', 'Number of Resturants']\n",
    "price_range_data['Mean Rating']=(df.groupby(['Price range'], as_index=False)['Aggregate rating'].mean())['Aggregate rating']"
   ]
  },
  {
   "cell_type": "code",
   "execution_count": null,
   "metadata": {},
   "outputs": [],
   "source": [
    "price_range_data['color'] = pd.Series('random text', index=price_range_data.index)\n",
    "\n",
    "for index, row in price_range_data.iterrows():\n",
    "    price_range_data.set_value(col='color', index=index, value='rgba(222,45,38,%4.1f)' %(price_range_data.iloc[index]['Mean Rating']/5))\n",
    "\n",
    "trace0 = go.Bar(\n",
    "    x=price_range_data['Price range'],\n",
    "    y=price_range_data['Mean Rating'],\n",
    " )\n",
    "\n",
    "data = [trace0]\n",
    "layout = go.Layout(\n",
    "    title='Price Range vs Rating',\n",
    "    xaxis=dict(title=\"Price range\"),\n",
    "    yaxis=dict(title=\"Average Rating\")\n",
    ")\n",
    "\n",
    "fig = go.Figure(data=data, layout=layout)\n",
    "iplot(fig, filename='color-bar')"
   ]
  },
  {
   "cell_type": "markdown",
   "metadata": {},
   "source": [
    "## Votes vs Rating"
   ]
  },
  {
   "cell_type": "code",
   "execution_count": null,
   "metadata": {},
   "outputs": [],
   "source": [
    "df_cost = df.copy()\n",
    "df_votes = df.query('Votes>20')\n",
    "\n",
    "rating_grouped_data=(df_votes.groupby(['Aggregate rating'], as_index=False)['Restaurant ID'].count())\n",
    "rating_grouped_data.columns = ['Aggregate rating', 'Number of Resturants']\n",
    "rating_names = (rating_grouped_data.sort_values(['Aggregate rating'],ascending=False).head(50))['Aggregate rating']\n",
    "\n",
    "df_top_ratings = (df_cost[df_cost['Aggregate rating'].isin(rating_names)])\n",
    "top_ratings = rating_names.reset_index()['Aggregate rating']\n",
    "\n",
    "a=[None] * rating_names.size\n",
    "b= [None] * rating_names.size\n",
    "trace = [None] * rating_names.size\n",
    "for i in range (0, rating_names.size):\n",
    "    top_ratings[i]\n",
    "    a[i]= df_top_ratings[df_top_ratings['Aggregate rating']==top_ratings[i]]['Votes']\n",
    "    b[i] =a[i].reset_index()['Votes']\n",
    "    trace[i] = go.Box(\n",
    "    y=b[i],\n",
    "    name = top_ratings[i],\n",
    "        boxmean=True\n",
    "    )\n",
    "data1 = trace\n",
    "layout = go.Layout(\n",
    "    title='Votes vs Rating',\n",
    ")\n",
    "\n",
    "fig = go.Figure(data=data1, layout=layout)\n",
    "iplot(fig)"
   ]
  },
  {
   "cell_type": "markdown",
   "metadata": {},
   "source": [
    "# Data Modeling"
   ]
  },
  {
   "cell_type": "markdown",
   "metadata": {},
   "source": [
    "## Creating Cuisines as a feature"
   ]
  },
  {
   "cell_type": "code",
   "execution_count": null,
   "metadata": {
    "collapsed": true
   },
   "outputs": [],
   "source": [
    "indian = ['Street Food','Vietnamese','Tibetan','North Eastern','Oriya','Parsi','Chettinad','Goan','Curry','Vegetarian','South Indian','Rajasthani','Pakistani','Lucknowi','Mughlai','Naga','Nepalese','Modern Indian','Mithai','Malwani', 'Mangalorean','Maharashtrian','Kashmiri','Kebab','Kerala','Indian','Hyderabadi','Gujarati','Burmese','Bihari', 'Biryani','Assamese', \"Awadhi\",\"Andhra\", \"North Indian\", \"Bengali\" ]\n",
    "asian = [ 'Thai','Teriyaki','Ramen','Indonesian','Dim Sum','Malaysian','Sushi', 'Taiwanese','Seafood','Singaporean','Korean','Japanese','Chinese','Cantonese','Bubble Tea','Asian','Asian Fusion',]\n",
    "continental = [ 'Modern Australian','Moroccan','Belgian','Western', 'World Cuisine''Tapas','Southern', 'Southwestern', 'Spanish','Restaurant Cafe','Salad','Sandwich', 'Scottish','Pizza','Portuguese','Pub Food','New American','Irish','Italian','International','Diner','German', 'Gourmet Fast Food', 'Greek', 'Grill','Fish and Chips','French','European','Fast Food','Deli','Continental','Canadian','British','Bar Food','Burger','Australian','BBQ','American',]\n",
    "middle_eastern = ['Brazilian','Turkish','Turkish Pizza','Middle Eastern','Lebanese','Iranian','Fusion','Afghani',]\n",
    "latin = [ 'Tex-Mex','Tapas','South American','Mexican','Latin American','Filipino','Cuban','Argentine','Caribbean']\n",
    "others = ['African', 'Arabian', 'Armenian', 'Bakery', 'Beverages', 'Breakfast', 'Bí_rek', 'Cafe', 'Cajun', 'Charcoal Grill', 'Coffee and Tea', 'Contemporary', 'Cuisine Varies', 'Desserts', 'Drinks Only', 'Durban', 'Dí_ner', 'Finger Food', 'Hawaiian', 'Healthy Food', 'Ice Cream', 'Izgara', 'Juices', 'Kiwi', 'Malay', 'Mediterranean', 'Mineira', 'Patisserie', 'Peranakan', 'Persian', 'Peruvian', 'Raw Meats', 'Soul Food', 'South African', 'Sri Lankan', 'Steak', 'Sunda', 'Tea', 'World Cuisine']"
   ]
  },
  {
   "cell_type": "code",
   "execution_count": null,
   "metadata": {
    "collapsed": true
   },
   "outputs": [],
   "source": [
    "df.insert(loc=10,column=\"c_indian\",value=0)\n",
    "df.insert(loc=10,column=\"c_asian\",value=0)\n",
    "df.insert(loc=10,column=\"c_continental\",value=0)\n",
    "df.insert(loc=10,column=\"c_latin\",value=0)\n",
    "df.insert(loc=10,column=\"c_middle_eastern\",value=0)\n",
    "df.insert(loc=10,column=\"c_others\",value=0)"
   ]
  },
  {
   "cell_type": "code",
   "execution_count": null,
   "metadata": {
    "collapsed": true
   },
   "outputs": [],
   "source": [
    "def selectCuisine(item, c_list):\n",
    "    if type(item['Cuisines']) is str:\n",
    "        str_split = [x.strip() for x in item['Cuisines'].split(',')]\n",
    "        if any(i in c_list for i in str_split):\n",
    "            return 1\n",
    "    return 0"
   ]
  },
  {
   "cell_type": "markdown",
   "metadata": {},
   "source": [
    "### Separate Cuisines into six categories "
   ]
  },
  {
   "cell_type": "code",
   "execution_count": null,
   "metadata": {
    "collapsed": true
   },
   "outputs": [],
   "source": [
    "df['c_indian'] = df.apply(selectCuisine,args=([indian]), axis=1)\n",
    "df['c_asian'] = df.apply(selectCuisine,args=([asian]), axis=1)\n",
    "df['c_continental'] = df.apply(selectCuisine,args=([continental]), axis=1)\n",
    "df['c_latin'] = df.apply(selectCuisine,args=([latin]), axis=1)\n",
    "df['c_middle_eastern'] = df.apply(selectCuisine,args=([middle_eastern]), axis=1)\n",
    "df['c_others'] = df.apply(selectCuisine,args=([others]), axis=1)"
   ]
  },
  {
   "cell_type": "markdown",
   "metadata": {},
   "source": [
    "## Relation between Aggregate rating, Rating color, Rating text"
   ]
  },
  {
   "cell_type": "code",
   "execution_count": null,
   "metadata": {},
   "outputs": [],
   "source": [
    "df_rrr = df.copy()\n",
    "\n",
    "print(df_rrr['Rating color'].unique())\n",
    "print(df_rrr['Rating text'].unique())\n",
    "\n",
    "df_rrr['Rating color'].replace(to_replace=['Dark Green'], value=5, inplace=True)\n",
    "df_rrr['Rating color'].replace(to_replace=['Green'], value=4, inplace=True)\n",
    "df_rrr['Rating color'].replace(to_replace=['Yellow'], value=3, inplace=True)\n",
    "df_rrr['Rating color'].replace(to_replace=['Orange'], value=2, inplace=True)\n",
    "df_rrr['Rating color'].replace(to_replace=['Red'], value=1, inplace=True)\n",
    "df_rrr['Rating color'].replace(to_replace=['White'], value=0, inplace=True)\n",
    "df_rrr['Rating text'].replace(to_replace=['Excellent'], value=5, inplace=True)\n",
    "df_rrr['Rating text'].replace(to_replace=['Very Good'], value=4, inplace=True)\n",
    "df_rrr['Rating text'].replace(to_replace=['Good'], value=3, inplace=True)\n",
    "df_rrr['Rating text'].replace(to_replace=['Average'], value=2, inplace=True)\n",
    "df_rrr['Rating text'].replace(to_replace=['Poor'], value=1, inplace=True)\n",
    "df_rrr['Rating text'].replace(to_replace=['Not rated'], value=0, inplace=True)"
   ]
  },
  {
   "cell_type": "code",
   "execution_count": null,
   "metadata": {},
   "outputs": [],
   "source": [
    "feature_data = df_rrr[[\"Aggregate rating\", \"Rating color\", \"Rating text\"]]\n",
    "corr = feature_data.corr()\n",
    "trace = go.Heatmap(z=np.array(corr), x=corr.columns, y=corr.columns)\n",
    "data=[trace]\n",
    "iplot(data)"
   ]
  },
  {
   "cell_type": "markdown",
   "metadata": {},
   "source": [
    "## Using Multiply Regression Model for predicting rating"
   ]
  },
  {
   "cell_type": "code",
   "execution_count": null,
   "metadata": {},
   "outputs": [],
   "source": [
    "df_model = df[['Currency in USD', \"Votes\", \"Has Table booking\", \"Has Online delivery\", 'c_others', 'c_middle_eastern', 'c_latin', 'c_continental', 'c_asian','c_indian', \"Price range\", 'Aggregate rating']].copy()\n",
    "\n",
    "df_model['Has Table booking'] = pd.get_dummies(df_model[\"Has Table booking\"])[\"Yes\"]\n",
    "df_model['Has Online delivery'] = pd.get_dummies(df_model[\"Has Online delivery\"])[\"Yes\"]\n",
    "\n",
    "df_model.columns = [\"PriceInUSD\", \"Votes\", \"HasTableBooking\", \"HasOnlineDelivery\",'c_others', 'c_middle_eastern', 'c_latin', 'c_continental', 'c_asian','c_indian', \"PriceRange\", \"AggregateRating\"]\n",
    "\n",
    "# from sklearn.model_selection import train_test_split\n",
    "# train, test = train_test_split(df_model, test_size=0.2)\n",
    "\n",
    "feature_data = df_model.drop(\"AggregateRating\", axis=1)\n",
    "target_data = df_model[\"AggregateRating\"]\n",
    "reg = linear_model.LinearRegression()  # this is the sklearn method\n",
    "reg.fit(feature_data, target_data)\n",
    "print(reg.coef_)\n",
    "print(\"Intercept is %.4f\" % reg.intercept_)\n",
    "\n",
    "r2 = reg.score(feature_data, target_data)\n",
    "r2_adj = 1 - (1-r2)*(len(feature_data)-1) / (len(target_data) - feature_data.shape[1]-1)\n",
    "\n",
    "print(\"R-squared adjusted for the full model is %.5f\" % r2_adj)\n",
    "olsScore = round(r2*100, 2)\n",
    "print(\"olsScore\", olsScore)"
   ]
  },
  {
   "cell_type": "markdown",
   "metadata": {},
   "source": [
    "### Using Forward Selection"
   ]
  },
  {
   "cell_type": "code",
   "execution_count": null,
   "metadata": {},
   "outputs": [],
   "source": [
    "baseline_performance = 0\n",
    "feature_pool = feature_data.columns.tolist()\n",
    "\n",
    "for feature in feature_pool:\n",
    "    feature_data_temp = pd.DataFrame(feature_data[feature])\n",
    "    reg_up = linear_model.LinearRegression()\n",
    "    reg_up.fit(feature_data_temp, target_data)\n",
    "    \n",
    "    r2_up = reg_up.score(feature_data_temp, target_data)\n",
    "    r2_adj_up = 1 - (1-r2_up)*(len(target_data)-1) / (len(target_data) - feature_data_temp.shape[1]-1)    \n",
    "    \n",
    "    if r2_adj_up > baseline_performance:\n",
    "        print(\"We can improve R-squared to %.5f by including %s\" % (r2_adj_up, feature))   "
   ]
  },
  {
   "cell_type": "markdown",
   "metadata": {},
   "source": [
    "## Build OLS Model"
   ]
  },
  {
   "cell_type": "code",
   "execution_count": null,
   "metadata": {
    "collapsed": true
   },
   "outputs": [],
   "source": [
    "df_reduced = df[[\"Country Code\",\"City\", \"Cuisines\", \"Average Cost for two\", \n",
    "                 \"Currency\", \"Has Table booking\", \"Has Online delivery\", \n",
    "                 \"Is delivering now\", \"Aggregate rating\", \n",
    "                 \"Rating color\", \"Votes\"\n",
    "                ]]\n",
    "df_reduced.rename(columns={\"Average Cost for two\": \"AvgCost\"}, inplace=True)\n",
    "df_reduced.rename(columns={\"Has Table booking\": \"HasTableBooking\"}, inplace=True)\n",
    "df_reduced.rename(columns={\"Has Online delivery\": \"HasOnlineDelivery\"}, inplace=True)\n",
    "df_reduced.rename(columns={\"Is delivering now\": \"IsDeliveringNow\"}, inplace=True)\n",
    "df_reduced.rename(columns={\"Country Code\": \"CountryCode\"}, inplace=True)\n",
    "df_reduced.rename(columns={\"Aggregate rating\":\"AggregateRating\"}, inplace=True)\n",
    "df_reduced.rename(columns={\"Rating color\": \"RatingColor\"}, inplace=True)"
   ]
  },
  {
   "cell_type": "code",
   "execution_count": null,
   "metadata": {},
   "outputs": [],
   "source": [
    "cuisines = df_reduced.Cuisines.str.split(',', expand=True).stack().str.strip().reset_index(level=1, drop=True)\n",
    "df1 = pd.DataFrame(data=cuisines, columns=[\"Cuisines\"])\n",
    "df_reduced_cuisines = df_reduced.drop(['Cuisines'], axis=1).join(df1).reset_index(drop=True)\n",
    "df_reduced_cuisines.head()"
   ]
  },
  {
   "cell_type": "markdown",
   "metadata": {},
   "source": [
    "### Use statsmodel method to creat OLS summary between Average cost with Country and Votes"
   ]
  },
  {
   "cell_type": "code",
   "execution_count": null,
   "metadata": {},
   "outputs": [],
   "source": [
    "model = ols(\"AvgCost ~ CountryCode + Votes\",\n",
    "            data=df_reduced_cuisines).fit()\n",
    "print(model.summary())\n",
    "print(\"R-squared is %.4f\" % model.rsquared)\n",
    "print(\"R-squared adjusted is %.4f\" % model.rsquared_adj)"
   ]
  },
  {
   "cell_type": "markdown",
   "metadata": {},
   "source": [
    "### Correlation between with each variables"
   ]
  },
  {
   "cell_type": "code",
   "execution_count": null,
   "metadata": {},
   "outputs": [],
   "source": [
    "feature_data = df_reduced_cuisines.drop(\"AvgCost\", axis=1)\n",
    "target_data = df_reduced_cuisines[\"AvgCost\"]\n",
    "\n",
    "feature_data[\"HasTableBooking\"] = pd.get_dummies(feature_data[\"HasTableBooking\"])[\"Yes\"]\n",
    "feature_data[\"HasOnlineDelivery\"] = pd.get_dummies(feature_data[\"HasOnlineDelivery\"])[\"Yes\"]\n",
    "feature_data[\"IsDeliveringNow\"] = pd.get_dummies(feature_data[\"IsDeliveringNow\"])[\"Yes\"]\n",
    "feature_data[\"RatingColor-DarkGreen\"] = pd.get_dummies(feature_data[\"RatingColor\"])['Dark Green']\n",
    "feature_data[\"RatingColor-Green\"] = pd.get_dummies(feature_data[\"RatingColor\"])['Green']\n",
    "\n",
    "corr_matrix = feature_data.corr()\n",
    "corr_matrix"
   ]
  },
  {
   "cell_type": "code",
   "execution_count": null,
   "metadata": {},
   "outputs": [],
   "source": [
    "trace = go.Heatmap(z=np.array(corr_matrix), x=corr_matrix.columns, y=corr_matrix.columns)\n",
    "data=[trace]\n",
    "iplot(data)"
   ]
  },
  {
   "cell_type": "markdown",
   "metadata": {},
   "source": [
    "## Test Dataset with different  algorithm"
   ]
  },
  {
   "cell_type": "code",
   "execution_count": null,
   "metadata": {},
   "outputs": [],
   "source": [
    "df_model_rating_color = df[['Currency in USD', \"Votes\", \"Has Table booking\", \"Has Online delivery\", 'c_others', 'c_middle_eastern', 'c_latin', 'c_continental', 'c_asian','c_indian', \"Price range\", 'Rating color']].copy()\n",
    "\n",
    "df_model_rating_color['Has Table booking'] = pd.get_dummies(df_model_rating_color[\"Has Table booking\"])[\"Yes\"]\n",
    "df_model_rating_color['Has Online delivery'] = pd.get_dummies(df_model_rating_color[\"Has Online delivery\"])[\"Yes\"]\n",
    "\n",
    "df_model_rating_color.columns = [\"PriceInUSD\", \"Votes\", \"HasTableBooking\", \"HasOnlineDelivery\",'c_others', 'c_middle_eastern', 'c_latin', 'c_continental', 'c_asian','c_indian', \"PriceRange\", \"RatingColor\"]\n",
    "\n",
    "X_train = df_model_rating_color.drop(\"RatingColor\", axis=1)\n",
    "Y_train = df_model_rating_color[\"RatingColor\"]\n",
    "\n",
    "# machine learning\n",
    "from sklearn.linear_model import LogisticRegression\n",
    "from sklearn.svm import SVC, LinearSVC\n",
    "from sklearn.ensemble import RandomForestClassifier\n",
    "from sklearn.neighbors import KNeighborsClassifier\n",
    "from sklearn.naive_bayes import GaussianNB\n",
    "from sklearn.linear_model import Perceptron\n",
    "from sklearn.linear_model import SGDClassifier\n",
    "from sklearn.tree import DecisionTreeClassifier\n",
    "\n",
    "\n",
    "# Logistic Regression\n",
    "\n",
    "logreg = LogisticRegression()\n",
    "logreg.fit(X_train, Y_train)\n",
    "acc_log = round(logreg.score(X_train, Y_train) * 100, 2)\n",
    "print(\"Logistic Regression\", acc_log)\n",
    "\n",
    "# Support Vector Machines\n",
    "\n",
    "svc = SVC()\n",
    "svc.fit(X_train, Y_train)\n",
    "acc_svc = round(svc.score(X_train, Y_train) * 100, 2)\n",
    "print(\"Support Vector Machines\", acc_svc)\n",
    "\n",
    "# Random Forest\n",
    "\n",
    "random_forest = RandomForestClassifier(n_estimators=100)\n",
    "random_forest.fit(X_train, Y_train)\n",
    "acc_random_forest = round(random_forest.score(X_train, Y_train) * 100, 2)\n",
    "print(\"Random Forest\", acc_random_forest)\n",
    "\n",
    "# Decision Tree\n",
    "\n",
    "decision_tree = DecisionTreeClassifier()\n",
    "decision_tree.fit(X_train, Y_train)\n",
    "acc_decision_tree = round(decision_tree.score(X_train, Y_train) * 100, 2)\n",
    "print(\"Decision Tree\", acc_decision_tree)\n",
    "\n",
    "# knn\n",
    "\n",
    "knn = KNeighborsClassifier(n_neighbors = 3)\n",
    "knn.fit(X_train, Y_train)\n",
    "acc_knn = round(knn.score(X_train, Y_train) * 100, 2)\n",
    "print(\"KNN\", acc_knn)\n",
    "\n",
    "# Stochastic Gradient Descent\n",
    "\n",
    "sgd = SGDClassifier()\n",
    "sgd.fit(X_train, Y_train)\n",
    "acc_sgd = round(sgd.score(X_train, Y_train) * 100, 2)\n",
    "print(\"Stochastic Gradient Descent\",acc_sgd)\n",
    "\n",
    "# Linear SVC\n",
    "\n",
    "linear_svc = LinearSVC()\n",
    "linear_svc.fit(X_train, Y_train)\n",
    "acc_linear_svc = round(linear_svc.score(X_train, Y_train) * 100, 2)\n",
    "print(\"Linear SVC\", acc_linear_svc)\n",
    "\n",
    "# Perceptron\n",
    "\n",
    "perceptron = Perceptron()\n",
    "perceptron.fit(X_train, Y_train)\n",
    "acc_perceptron = round(perceptron.score(X_train, Y_train) * 100, 2)\n",
    "print(\"Perceptron\", acc_perceptron)\n",
    "\n",
    "# Gaussian Naive Bayes\n",
    "\n",
    "gaussian = GaussianNB()\n",
    "gaussian.fit(X_train, Y_train)\n",
    "acc_gaussian = round(gaussian.score(X_train, Y_train) * 100, 2)\n",
    "\n",
    "print(\"Gaussian Naive Bayes\", acc_gaussian)\n",
    "\n",
    "models = pd.DataFrame({\n",
    "    'Model': ['Support Vector Machines', 'KNN', 'Logistic Regression', \n",
    "              'Random Forest', 'Naive Bayes', 'Perceptron', \n",
    "              'Stochastic Gradient Decent', 'Linear SVC', \n",
    "              'Decision Tree', \"OLS\"],\n",
    "    'Score': [acc_svc, acc_knn, acc_log, \n",
    "              acc_random_forest, acc_gaussian, acc_perceptron, \n",
    "              acc_sgd, acc_linear_svc, acc_decision_tree, olsScore]})\n",
    "models.sort_values(by='Score', ascending=False)"
   ]
  },
  {
   "cell_type": "code",
   "execution_count": null,
   "metadata": {},
   "outputs": [],
   "source": [
    "corr_matrix = feature_data.corr()\n",
    "corr_matrix"
   ]
  },
  {
   "cell_type": "code",
   "execution_count": null,
   "metadata": {},
   "outputs": [],
   "source": [
    "trace = go.Heatmap(z=np.array(corr_matrix), x=corr_matrix.columns, y=corr_matrix.columns)\n",
    "data=[trace]\n",
    "iplot(data)"
   ]
  },
  {
   "cell_type": "code",
   "execution_count": null,
   "metadata": {
    "collapsed": true
   },
   "outputs": [],
   "source": []
  },
  {
   "cell_type": "code",
   "execution_count": null,
   "metadata": {
    "collapsed": true
   },
   "outputs": [],
   "source": []
  }
 ],
 "metadata": {
  "kernelspec": {
   "display_name": "Python 3",
   "language": "python",
   "name": "python3"
  },
  "language_info": {
   "codemirror_mode": {
    "name": "ipython",
    "version": 3
   },
   "file_extension": ".py",
   "mimetype": "text/x-python",
   "name": "python",
   "nbconvert_exporter": "python",
   "pygments_lexer": "ipython3",
   "version": "3.6.3"
  }
 },
 "nbformat": 4,
 "nbformat_minor": 2
}
