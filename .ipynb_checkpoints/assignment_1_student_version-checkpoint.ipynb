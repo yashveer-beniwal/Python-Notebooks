{
 "cells": [
  {
   "cell_type": "markdown",
   "metadata": {},
   "source": [
    "## Assignment #1 - Details\n",
    "\n",
    "In the [video](https://www.youtube.com/watch?v=5Dnw46eC-0o&feature=youtu.be) we watched in class, we saw how a random permutation test was used in place of a t-test to assign significance to a difference between two groups (in this case, subjects given either beer or water and measured for attractiveness to mosquitos).\n",
    "\n",
    "For the assignment, you are asked to:\n",
    "\n",
    "1. Create side-by-side boxplots for the number of mosquitos in each group (beer vs water)\n",
    "2. Answer the question: What does the graph reveal about the data for both groups? Is there an association between beer consumption and attractiveness to mosquitos?\n",
    "3. Calculate basic statistics measures for each group: the mean, median, standard deviation\n",
    "4. Explain the numbers\n",
    "5. Write the code to implement the data simulation demonstrated in the video\n",
    "\n",
    "Some additional details are provided for each of these questios below\n",
    "\n",
    "By: Gabe Musso\n",
    "Date: January 20th, 2018"
   ]
  },
  {
   "cell_type": "code",
   "execution_count": 1,
   "metadata": {
    "collapsed": true
   },
   "outputs": [],
   "source": [
    "# Packages we'll need for this assignment\n",
    "import pandas as pd  # Pandas can be used to read in the data from the CSV file, and also for some calculations\n",
    "import numpy as np  # Numpy is a Python math library, it can be used for resampling and associated calculations\n",
    "import random as rand  # Pythons library for randomization"
   ]
  },
  {
   "cell_type": "code",
   "execution_count": 2,
   "metadata": {
    "collapsed": true
   },
   "outputs": [],
   "source": [
    "# Packages needed for drawing box plots and histogram\n",
    "import matplotlib.pyplot as plt\n",
    "import matplotlib.mlab as mlab"
   ]
  },
  {
   "cell_type": "markdown",
   "metadata": {},
   "source": [
    "---------------------------------------------------------------------------------------\n",
    "### 1. Create side-by-side boxplots for the number of mosquitos in each group (beer vs water)\n",
    "There are several tools you can use to generate boxplots within Jupyter/IPython notebooks. In class I used [Plotly](https://plot.ly/python/box-plots/), but you can also use [matplotlib](https://matplotlib.org/examples/pylab_examples/boxplot_demo.html), or [Seaborn](https://seaborn.pydata.org/generated/seaborn.boxplot.html). Each of the above hyperlinks will demonstrate how to generate these plots. You should end up with a plot that contains:\n",
    "\n",
    "1. Labeled Axes\n",
    "2. Units (if applicable)\n",
    "\n",
    "Note, if using matplotlib, you may have to call the [matplotlib inline function](https://stackoverflow.com/questions/19410042/how-to-make-ipython-notebook-matplotlib-plot-inline) to make the graphs appear."
   ]
  },
  {
   "cell_type": "markdown",
   "metadata": {},
   "source": [
    "### Solution"
   ]
  },
  {
   "cell_type": "code",
   "execution_count": 3,
   "metadata": {
    "collapsed": false,
    "scrolled": true
   },
   "outputs": [
    {
     "data": {
      "image/png": "[encoded data removed]",
      "text/plain": [
       "<matplotlib.figure.Figure at 0x112220208>"
      ]
     },
     "metadata": {},
     "output_type": "display_data"
    }
   ],
   "source": [
    "# Read the data using Pandas\n",
    "dataFrame = pd.read_csv(\"mosquitos_data.csv\")\n",
    "beerData = dataFrame[dataFrame.Treatment == 'Beer'].Response\n",
    "waterData = dataFrame[dataFrame.Treatment == 'Water'].Response\n",
    "\n",
    "data = [beerData, waterData]\n",
    "fig, ax1 = plt.subplots(figsize=(15, 8))\n",
    "ax1.set_title('Beer vs Water attractiveness to Mosquitoes')\n",
    "ax1.tick_params(labelright=True)\n",
    "ax1.boxplot(data)\n",
    "ax1.set_xticklabels([\"Beer\", \"Water\"])\n",
    "plt.show()\n"
   ]
  },
  {
   "cell_type": "markdown",
   "metadata": {},
   "source": [
    "### 2. Answer the question: What does the graph reveal about the data for both groups? Is there an association between beer consumption and attractiveness to mosquitos?\n",
    "Some things to consider when answering this qustion:\n",
    "\n",
    "1. What can you state about the medians and interquartile ranges of the two groups?\n",
    "2. What do these properties tell us about the two data sets?\n",
    "3. Based on the boxplot alone, can we say if the difference between the two groups is significant?\n",
    "\n",
    "### Solution\n",
    "it is evident by looking at the box plots that the Mosquitos found subjects that drank beer more attractive. As shown in the data, the median of the Beer group is found to be higher than the third quartile of water group which shows that almost more than half of the data in beer group was larger than the maximum value reported in interquartile range of water group. Thus the difference in the groups of data is very significant."
   ]
  },
  {
   "cell_type": "markdown",
   "metadata": {},
   "source": [
    "### 3. Calculate basic statistics measures for each group: the mean, median, standard deviation\n",
    "There are multiple ways to calculate mean, median and standard deviation using Python. Below are three examples of how to calculate mean. Note that for this question you'll need to calculate the mean, median, and standard deviation for both the 'beer' and 'water' subjects.\n",
    "### Solution\n"
   ]
  },
  {
   "cell_type": "code",
   "execution_count": 4,
   "metadata": {
    "collapsed": false
   },
   "outputs": [
    {
     "name": "stdout",
     "output_type": "stream",
     "text": [
      "Mean for beer group is 23.6\n",
      "Mean for water group is 19.2222222222\n",
      "Median for water group is 20.0\n",
      "Median for beer group is 24.0\n",
      "Standard Deviation for Beer Group is 4.13319892255\n",
      "Standard Deviation for Water Group is 3.67112028991\n"
     ]
    }
   ],
   "source": [
    "# Calculate Mean\n",
    "beerMean = sum(beerData) / len(beerData)\n",
    "print(\"Mean for beer group is %s\" % beerMean)\n",
    "waterMean = sum(waterData) / len(waterData)\n",
    "print(\"Mean for water group is %s\" % waterMean)\n",
    "\n",
    "# Calculate Median\n",
    "beerMedian = np.median(beerData)\n",
    "waterMedian = np.median(waterData)\n",
    "\n",
    "print(\"Median for water group is\", waterMedian)\n",
    "print(\"Median for beer group is\", beerMedian)\n",
    "\n",
    "# Calculate Standard Deviation\n",
    "\n",
    "squarredError = 0\n",
    "\n",
    "for item in beerData:\n",
    "    squarredError += (item - beerMean)**2\n",
    "    \n",
    "beerSD = (squarredError/(len(beerData) - 1))**(1/2)\n",
    "\n",
    "print(\"Standard Deviation for Beer Group is\", beerSD)\n",
    "\n",
    "squarredError = 0\n",
    "\n",
    "for item in waterData:\n",
    "    squarredError += (item - waterMean)**2\n",
    "    \n",
    "waterSD = (squarredError/(len(waterData) - 1))**(1/2)\n",
    "\n",
    "print(\"Standard Deviation for Water Group is\", waterSD)\n"
   ]
  },
  {
   "cell_type": "markdown",
   "metadata": {},
   "source": [
    "### 4. Explain the numbers\n",
    "After calculating the mean, median, and standard deviation for the beer and water groups, what can we learn from these numbers? Is the difference in means consistent with the difference in medians? Why might means and medians be different, could the standard deviation hold some clues?\n",
    "### Solution\n",
    "For beer group the mean is greater than the median which means that the distribution is skewed towards the higher values(more mosquitos), on the contrary the water group's distribution is skewed towards the lower values(less mosquitos) resulting from lesser mean than its median. The difference in means is very consistent with the difference in medians which shows that the data in both of the groups have similar amount of outliers. DIffernce in means and medians shows the presense of outliers. Also having outliers increses the standard deviation. "
   ]
  },
  {
   "cell_type": "markdown",
   "metadata": {},
   "source": [
    "### 5. Write the code to implement the data simulation demonstrated in the video\n",
    "To do this simulation we'll need a few elements:\n",
    "\n",
    "1. We'll have to iterate over 50,000 simulations\n",
    "2. For each simulation we'll have to shuffle the beer/water labels.\n",
    "3. Once shuffled we'll have to calculate the difference in means between the two groups, and store this measurement in a list or numpy array.\n",
    "\n",
    "Iteration can be handled using a standard 'for' loop. To shuffle the labels, we have a few options. Below is an example of how to randomize labels using Python's [randomization library](https://docs.python.org/2/library/random.html) library, however both [pandas](https://pandas.pydata.org/pandas-docs/stable/generated/pandas.DataFrame.sample.html) and [numpy](https://docs.scipy.org/doc/numpy-1.13.0/reference/routines.random.html) have methods for random sampling. In class I used a histogram to show the results of the permutations. That's not necessary for this assignment, but please make sure you retain the results of the mean comparisons at each step."
   ]
  },
  {
   "cell_type": "markdown",
   "metadata": {},
   "source": [
    "### Solution\n",
    "--------------------------------"
   ]
  },
  {
   "cell_type": "code",
   "execution_count": 26,
   "metadata": {
    "collapsed": false,
    "scrolled": true
   },
   "outputs": [
    {
     "data": {
      "image/png": "[encoded data removed]",
      "text/plain": [
       "<matplotlib.figure.Figure at 0x119cc4860>"
      ]
     },
     "metadata": {},
     "output_type": "display_data"
    }
   ],
   "source": [
    "meanDifference = beerMean - waterMean\n",
    "dataFrame2  = pd.read_csv(\"mosquitos_data.csv\")\n",
    "count = 0\n",
    "noOfIterations = 5000\n",
    "difference = [None] * noOfIterations\n",
    "for index in range(0, noOfIterations):\n",
    "    labels = dataFrame2[\"Treatment\"].tolist()  # Convert the treatment data to a list\n",
    "    rand.shuffle(labels)               # Shuffle the lables, notice that this happens in place\n",
    "    dataFrame2[\"Treatment\"] = labels   # Set the 'Treatment' column to contain the shuffled labels\n",
    "    bd = dataFrame2[dataFrame2.Treatment == 'Beer'].Response\n",
    "    wd = dataFrame2[dataFrame2.Treatment == 'Water'].Response\n",
    "    bMean = sum(bd) / len(bd)\n",
    "    wMean = sum(wd) / len(wd)\n",
    "    difference[index] = bMean - wMean\n",
    "    if difference[index] >= meanDifference:\n",
    "        count += 1\n",
    "\n",
    "\n",
    "fig, ax = plt.subplots(figsize=(15, 8))\n",
    "\n",
    "# the histogram of the data\n",
    "ax.hist(difference)\n",
    "ax.set_xlabel('Mean')\n",
    "ax.set_ylabel('No. of iterations per mean value')\n",
    "ax.set_title(r'Histogram')\n",
    "plt.axvline(x=meanDifference, color='r', linestyle='--')\n",
    "# Tweak spacing to prevent clipping of ylabel\n",
    "plt.show()\n"
   ]
  },
  {
   "cell_type": "code",
   "execution_count": 6,
   "metadata": {
    "collapsed": false
   },
   "outputs": [
    {
     "name": "stdout",
     "output_type": "stream",
     "text": [
      "Chances on average of having the observations noticed 0.0016\n"
     ]
    }
   ],
   "source": [
    "probablity = count/noOfIterations\n",
    "print(\"Chances on average of having the observations noticed\", probablity)"
   ]
  },
  {
   "cell_type": "code",
   "execution_count": null,
   "metadata": {
    "collapsed": true
   },
   "outputs": [],
   "source": []
  }
 ],
 "metadata": {
  "kernelspec": {
   "display_name": "Python 3",
   "language": "python",
   "name": "python3"
  },
  "language_info": {
   "codemirror_mode": {
    "name": "ipython",
    "version": 3
   },
   "file_extension": ".py",
   "mimetype": "text/x-python",
   "name": "python",
   "nbconvert_exporter": "python",
   "pygments_lexer": "ipython3",
   "version": "3.6.0"
  }
 },
 "nbformat": 4,
 "nbformat_minor": 2
}
