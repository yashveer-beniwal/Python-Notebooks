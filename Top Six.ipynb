{
 "cells": [
  {
   "cell_type": "code",
   "execution_count": 1,
   "metadata": {},
   "outputs": [
    {
     "name": "stderr",
     "output_type": "stream",
     "text": [
      "C:\\Users\\Tao\\Anaconda3\\lib\\site-packages\\statsmodels\\compat\\pandas.py:56: FutureWarning: The pandas.core.datetools module is deprecated and will be removed in a future version. Please use the pandas.tseries module instead.\n",
      "  from pandas.core import datetools\n"
     ]
    },
    {
     "data": {
      "text/html": [
       "<script>requirejs.config({paths: { 'plotly': ['https://cdn.plot.ly/plotly-latest.min']},});if(!window.Plotly) {{require(['plotly'],function(plotly) {window.Plotly=plotly;});}}</script>"
      ],
      "text/vnd.plotly.v1+html": [
       "<script>requirejs.config({paths: { 'plotly': ['https://cdn.plot.ly/plotly-latest.min']},});if(!window.Plotly) {{require(['plotly'],function(plotly) {window.Plotly=plotly;});}}</script>"
      ]
     },
     "metadata": {},
     "output_type": "display_data"
    }
   ],
   "source": [
    "import pandas as pd\n",
    "import numpy as np\n",
    "from scipy import stats\n",
    "%matplotlib inline\n",
    "import matplotlib.pyplot as plt\n",
    "from statsmodels.formula.api import ols\n",
    "import pandas as pd\n",
    "import statsmodels.api as sm\n",
    "from IPython.display import Image\n",
    "from sklearn import linear_model, datasets\n",
    "from sklearn.metrics import mean_squared_error\n",
    "from plotly.offline import download_plotlyjs, init_notebook_mode, plot, iplot\n",
    "init_notebook_mode(connected=True)\n",
    "import plotly.graph_objs as go\n",
    "import folium\n",
    "import pylab \n",
    "import scipy.stats as stats\n",
    "from forex_python.converter import CurrencyRates\n",
    "pd.set_option('display.max_columns', 40)"
   ]
  },
  {
   "cell_type": "code",
   "execution_count": 2,
   "metadata": {},
   "outputs": [
    {
     "name": "stdout",
     "output_type": "stream",
     "text": [
      "{'BWP': 9.64, 'BRL': 3.4082, 'USD': 1.0, 'AED': 3.67, 'INR': 65.207, 'IDR': 13753.0, 'GBP': 0.70147, 'QAR': 3.64, 'ZAR': 12.053, 'LKR': 155.04, 'TRY': 4.0928}\n"
     ]
    }
   ],
   "source": [
    "c = CurrencyRates()\n",
    "currenciesDict = {\n",
    "    'BWP': 9.64, \n",
    "    'BRL': c.convert('USD', 'BRL', 1),\n",
    "    'USD': c.convert('USD', 'USD', 1),\n",
    "    'AED': 3.67, \n",
    "    'INR': c.convert('USD', 'INR', 1), \n",
    "    'IDR': c.convert('USD', 'IDR', 1), \n",
    "    'GBP': c.convert('USD', 'GBP', 1), \n",
    "    'QAR': 3.64, \n",
    "    'ZAR': c.convert('USD', 'ZAR', 1),\n",
    "    'LKR': 155.04,\n",
    "    'TRY': c.convert('USD', 'TRY', 1)\n",
    "}\n",
    "print(currenciesDict)\n",
    "def convertCurrency(x):\n",
    "    return x['Average Cost for two']/currenciesDict[x['Currency in short']]"
   ]
  },
  {
   "cell_type": "code",
   "execution_count": 3,
   "metadata": {},
   "outputs": [
    {
     "data": {
      "text/plain": [
       "array(['BWP', 'BRL', 'USD', 'AED', 'INR', 'IDR', 'GBP', 'QAR', 'ZAR',\n",
       "       'LKR', 'TRY'], dtype=object)"
      ]
     },
     "execution_count": 3,
     "metadata": {},
     "output_type": "execute_result"
    }
   ],
   "source": [
    "df=pd.read_csv(\"zomato.csv\",encoding = \"ISO-8859-1\",low_memory=False)\n",
    "df.insert(loc=12,column=\"Currency in USD\",value=0)\n",
    "df.insert(loc=12,column=\"Currency in short\",value=df[\"Currency\"])\n",
    "df[\"Currency in short\"].replace(\"Botswana Pula(P)\",\"BWP\",inplace=True)\n",
    "df[\"Currency in short\"].replace(\"Brazilian Real(R$)\",\"BRL\",inplace=True)\n",
    "df[\"Currency in short\"].replace(\"Dollar($)\",\"USD\",inplace=True)\n",
    "df[\"Currency in short\"].replace(\"Emirati Diram(AED)\",\"AED\",inplace=True)\n",
    "df[\"Currency in short\"].replace(\"Indian Rupees(Rs.)\",\"INR\",inplace=True)\n",
    "df[\"Currency in short\"].replace(\"Indonesian Rupiah(IDR)\",\"IDR\",inplace=True)\n",
    "df[\"Currency in short\"].replace(\"NewZealand($)\",\"USD\",inplace=True)\n",
    "df[\"Currency in short\"].replace(\"Pounds(£)\",\"GBP\",inplace=True)\n",
    "df[\"Currency in short\"].replace(\"Qatari Rial(QR)\",\"QAR\",inplace=True)\n",
    "df[\"Currency in short\"].replace(\"Rand(R)\",\"ZAR\",inplace=True)\n",
    "df[\"Currency in short\"].replace(\"Sri Lankan Rupee(LKR)\",\"LKR\",inplace=True)\n",
    "df[\"Currency in short\"].replace(\"Turkish Lira(TL)\",\"TRY\",inplace=True)\n",
    "df[\"Currency in short\"].unique()"
   ]
  },
  {
   "cell_type": "code",
   "execution_count": 6,
   "metadata": {},
   "outputs": [
    {
     "name": "stdout",
     "output_type": "stream",
     "text": [
      "['Restaurant ID' 'Restaurant Name' 'Country Code' 'City' 'Address'\n",
      " 'Locality' 'Locality Verbose' 'Longitude' 'Latitude' 'Cuisines'\n",
      " 'Average Cost for two' 'Currency' 'Currency in short' 'Currency in USD'\n",
      " 'Has Table booking' 'Has Online delivery' 'Is delivering now'\n",
      " 'Switch to order menu' 'Price range' 'Aggregate rating' 'Rating color'\n",
      " 'Rating text' 'Votes']\n"
     ]
    }
   ],
   "source": [
    "df['Currency in USD'] = df.apply(convertCurrency, axis=1)\n",
    "print(df.columns.values)"
   ]
  },
  {
   "cell_type": "code",
   "execution_count": 80,
   "metadata": {},
   "outputs": [
    {
     "data": {
      "text/html": [
       "<div>\n",
       "<style>\n",
       "    .dataframe thead tr:only-child th {\n",
       "        text-align: right;\n",
       "    }\n",
       "\n",
       "    .dataframe thead th {\n",
       "        text-align: left;\n",
       "    }\n",
       "\n",
       "    .dataframe tbody tr th {\n",
       "        vertical-align: top;\n",
       "    }\n",
       "</style>\n",
       "<table border=\"1\" class=\"dataframe\">\n",
       "  <thead>\n",
       "    <tr style=\"text-align: right;\">\n",
       "      <th></th>\n",
       "      <th>Cuisines</th>\n",
       "      <th>Restaurant ID</th>\n",
       "      <th>Mean Rating</th>\n",
       "      <th>Votes</th>\n",
       "      <th>Price</th>\n",
       "    </tr>\n",
       "  </thead>\n",
       "  <tbody>\n",
       "    <tr>\n",
       "      <th>100</th>\n",
       "      <td>North Indian</td>\n",
       "      <td>3960</td>\n",
       "      <td>3.0</td>\n",
       "      <td>151.0</td>\n",
       "      <td>11.0</td>\n",
       "    </tr>\n",
       "    <tr>\n",
       "      <th>34</th>\n",
       "      <td>Chinese</td>\n",
       "      <td>2735</td>\n",
       "      <td>3.0</td>\n",
       "      <td>133.0</td>\n",
       "      <td>11.0</td>\n",
       "    </tr>\n",
       "    <tr>\n",
       "      <th>49</th>\n",
       "      <td>Fast Food</td>\n",
       "      <td>1986</td>\n",
       "      <td>3.0</td>\n",
       "      <td>93.0</td>\n",
       "      <td>7.0</td>\n",
       "    </tr>\n",
       "    <tr>\n",
       "      <th>95</th>\n",
       "      <td>Mughlai</td>\n",
       "      <td>995</td>\n",
       "      <td>3.0</td>\n",
       "      <td>153.0</td>\n",
       "      <td>11.0</td>\n",
       "    </tr>\n",
       "    <tr>\n",
       "      <th>70</th>\n",
       "      <td>Italian</td>\n",
       "      <td>764</td>\n",
       "      <td>4.0</td>\n",
       "      <td>431.0</td>\n",
       "      <td>21.0</td>\n",
       "    </tr>\n",
       "    <tr>\n",
       "      <th>13</th>\n",
       "      <td>Bakery</td>\n",
       "      <td>745</td>\n",
       "      <td>2.0</td>\n",
       "      <td>77.0</td>\n",
       "      <td>7.0</td>\n",
       "    </tr>\n",
       "  </tbody>\n",
       "</table>\n",
       "</div>"
      ],
      "text/plain": [
       "         Cuisines  Restaurant ID  Mean Rating  Votes  Price\n",
       "100  North Indian           3960          3.0  151.0   11.0\n",
       "34        Chinese           2735          3.0  133.0   11.0\n",
       "49      Fast Food           1986          3.0   93.0    7.0\n",
       "95        Mughlai            995          3.0  153.0   11.0\n",
       "70        Italian            764          4.0  431.0   21.0\n",
       "13         Bakery            745          2.0   77.0    7.0"
      ]
     },
     "execution_count": 80,
     "metadata": {},
     "output_type": "execute_result"
    }
   ],
   "source": [
    "df2 = df.copy()\n",
    "cuisines = df2.Cuisines.str.split(',', expand=True).stack().str.strip().reset_index(level=1, drop=True)\n",
    "df_cuisines = pd.DataFrame(data=cuisines, columns=[\"Cuisines\"])\n",
    "df2 = df2.drop(['Cuisines'], axis=1).join(df_cuisines).reset_index(drop=True)\n",
    "single_cusine_data=(df2.groupby(['Cuisines'], as_index=False)['Restaurant ID'].count())\n",
    "single_cusine_data['Mean Rating']=(df1.groupby(['Cuisines'], as_index=False)['Aggregate rating'].mean().round())['Aggregate rating']\n",
    "single_cusine_data['Votes']=(df1.groupby(['Cuisines'], as_index=False)['Votes'].mean().round())['Votes']\n",
    "single_cusine_data['Price']=(df1.groupby(['Cuisines'], as_index=False)['Currency in USD'].mean().round())['Currency in USD']\n",
    "\n",
    "Top6=single_cusine_data.sort_values('Restaurant ID',ascending=False).iloc[:6,]\n",
    "Top6"
   ]
  },
  {
   "cell_type": "code",
   "execution_count": 88,
   "metadata": {},
   "outputs": [],
   "source": [
    "Not_top6=single_cusine_data.sort_values('Restaurant ID',ascending=False).iloc[6:,]\n",
    "Not_top6.loc['All'] = pd.Series(Not_top6['Restaurant ID'].sum(), index = ['Restaurant ID'])\n",
    "Not_top6.loc['All',\"Mean Rating\"] = Not_top6[\"Mean Rating\"].mean(axis=0)\n",
    "Not_top6.loc['All',\"Votes\"] = Not_top6[\"Votes\"].mean(axis=0)   \n",
    "Not_top6.loc['All',\"Price\"] = Not_top6[\"Price\"].mean(axis=0)\n",
    "Not_top6.loc['All',\"Cuisines\"] =\"Other\"\n",
    "Other_all=Not_top6.tail(1)"
   ]
  },
  {
   "cell_type": "code",
   "execution_count": 87,
   "metadata": {},
   "outputs": [
    {
     "data": {
      "text/html": [
       "<div>\n",
       "<style>\n",
       "    .dataframe thead tr:only-child th {\n",
       "        text-align: right;\n",
       "    }\n",
       "\n",
       "    .dataframe thead th {\n",
       "        text-align: left;\n",
       "    }\n",
       "\n",
       "    .dataframe tbody tr th {\n",
       "        vertical-align: top;\n",
       "    }\n",
       "</style>\n",
       "<table border=\"1\" class=\"dataframe\">\n",
       "  <thead>\n",
       "    <tr style=\"text-align: right;\">\n",
       "      <th></th>\n",
       "      <th>Cuisines</th>\n",
       "      <th>Restaurant ID</th>\n",
       "      <th>Mean Rating</th>\n",
       "      <th>Votes</th>\n",
       "      <th>Price</th>\n",
       "    </tr>\n",
       "  </thead>\n",
       "  <tbody>\n",
       "    <tr>\n",
       "      <th>100</th>\n",
       "      <td>North Indian</td>\n",
       "      <td>3960.0</td>\n",
       "      <td>3.0</td>\n",
       "      <td>151.0</td>\n",
       "      <td>11.0</td>\n",
       "    </tr>\n",
       "    <tr>\n",
       "      <th>34</th>\n",
       "      <td>Chinese</td>\n",
       "      <td>2735.0</td>\n",
       "      <td>3.0</td>\n",
       "      <td>133.0</td>\n",
       "      <td>11.0</td>\n",
       "    </tr>\n",
       "    <tr>\n",
       "      <th>49</th>\n",
       "      <td>Fast Food</td>\n",
       "      <td>1986.0</td>\n",
       "      <td>3.0</td>\n",
       "      <td>93.0</td>\n",
       "      <td>7.0</td>\n",
       "    </tr>\n",
       "    <tr>\n",
       "      <th>95</th>\n",
       "      <td>Mughlai</td>\n",
       "      <td>995.0</td>\n",
       "      <td>3.0</td>\n",
       "      <td>153.0</td>\n",
       "      <td>11.0</td>\n",
       "    </tr>\n",
       "    <tr>\n",
       "      <th>70</th>\n",
       "      <td>Italian</td>\n",
       "      <td>764.0</td>\n",
       "      <td>4.0</td>\n",
       "      <td>431.0</td>\n",
       "      <td>21.0</td>\n",
       "    </tr>\n",
       "    <tr>\n",
       "      <th>13</th>\n",
       "      <td>Bakery</td>\n",
       "      <td>745.0</td>\n",
       "      <td>2.0</td>\n",
       "      <td>77.0</td>\n",
       "      <td>7.0</td>\n",
       "    </tr>\n",
       "    <tr>\n",
       "      <th>All</th>\n",
       "      <td>Other</td>\n",
       "      <td>8525.0</td>\n",
       "      <td>4.0</td>\n",
       "      <td>357.0</td>\n",
       "      <td>30.0</td>\n",
       "    </tr>\n",
       "  </tbody>\n",
       "</table>\n",
       "</div>"
      ],
      "text/plain": [
       "         Cuisines  Restaurant ID  Mean Rating  Votes  Price\n",
       "100  North Indian         3960.0          3.0  151.0   11.0\n",
       "34        Chinese         2735.0          3.0  133.0   11.0\n",
       "49      Fast Food         1986.0          3.0   93.0    7.0\n",
       "95        Mughlai          995.0          3.0  153.0   11.0\n",
       "70        Italian          764.0          4.0  431.0   21.0\n",
       "13         Bakery          745.0          2.0   77.0    7.0\n",
       "All         Other         8525.0          4.0  357.0   30.0"
      ]
     },
     "execution_count": 87,
     "metadata": {},
     "output_type": "execute_result"
    }
   ],
   "source": [
    "top6_all=pd.concat([Top6, Other_all.round()], axis=0)\n",
    "top6_all"
   ]
  },
  {
   "cell_type": "code",
   "execution_count": null,
   "metadata": {
    "collapsed": true
   },
   "outputs": [],
   "source": []
  }
 ],
 "metadata": {
  "kernelspec": {
   "display_name": "Python 3",
   "language": "python",
   "name": "python3"
  },
  "language_info": {
   "codemirror_mode": {
    "name": "ipython",
    "version": 3
   },
   "file_extension": ".py",
   "mimetype": "text/x-python",
   "name": "python",
   "nbconvert_exporter": "python",
   "pygments_lexer": "ipython3",
   "version": "3.6.3"
  }
 },
 "nbformat": 4,
 "nbformat_minor": 2
}
